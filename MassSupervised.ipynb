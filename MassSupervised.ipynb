{
 "cells": [
  {
   "cell_type": "code",
   "execution_count": 2,
   "id": "db2ffbc0-b3f2-48f5-9ff7-d7c4a048b069",
   "metadata": {
    "tags": []
   },
   "outputs": [
    {
     "name": "stdout",
     "output_type": "stream",
     "text": [
      "<class 'pandas.core.frame.DataFrame'>\n",
      "RangeIndex: 9564 entries, 0 to 9563\n",
      "Data columns (total 10 columns):\n",
      " #   Column         Non-Null Count  Dtype  \n",
      "---  ------         --------------  -----  \n",
      " 0   B-V            9564 non-null   float64\n",
      " 1   log.Teff [K]   9564 non-null   float64\n",
      " 2   Absolute Mag   9564 non-null   float64\n",
      " 3   Mass[solMass]  9564 non-null   float64\n",
      " 4   Vmag           9564 non-null   float64\n",
      " 5   Plx            9564 non-null   float64\n",
      " 6   Age [yr]       9564 non-null   float64\n",
      " 7   Distance       9564 non-null   float64\n",
      " 8   logL           9564 non-null   float64\n",
      " 9   Predicted_SpT  9564 non-null   object \n",
      "dtypes: float64(9), object(1)\n",
      "memory usage: 747.3+ KB\n",
      "B-V                0\n",
      "log.Teff [K]       0\n",
      "Absolute Mag       1\n",
      "Mass[solMass]    203\n",
      "Vmag               0\n",
      "Plx                0\n",
      "Age [yr]         878\n",
      "Distance           0\n",
      "logL               0\n",
      "Predicted_SpT      0\n",
      "dtype: int64\n"
     ]
    }
   ],
   "source": [
    "import pandas as pd\n",
    "import matplotlib.pyplot as plt\n",
    "import numpy as np \n",
    "mdf = pd.read_csv(\"./Data/PiskunovPreprocessed.csv\")\n",
    "mdf.info()\n",
    "column_counts = mdf.eq(-1).sum()\n",
    "print(column_counts)"
   ]
  },
  {
   "cell_type": "code",
   "execution_count": 5,
   "id": "b99308f5-ce81-4b5c-a12c-bd568d4de832",
   "metadata": {
    "tags": []
   },
   "outputs": [
    {
     "name": "stdout",
     "output_type": "stream",
     "text": [
      "<class 'pandas.core.frame.DataFrame'>\n",
      "Index: 9361 entries, 0 to 9563\n",
      "Data columns (total 10 columns):\n",
      " #   Column         Non-Null Count  Dtype  \n",
      "---  ------         --------------  -----  \n",
      " 0   B-V            9361 non-null   float64\n",
      " 1   log.Teff [K]   9361 non-null   float64\n",
      " 2   Absolute Mag   9361 non-null   float64\n",
      " 3   Mass[solMass]  9361 non-null   float64\n",
      " 4   Vmag           9361 non-null   float64\n",
      " 5   Plx            9361 non-null   float64\n",
      " 6   Age [yr]       9361 non-null   float64\n",
      " 7   Distance       9361 non-null   float64\n",
      " 8   logL           9361 non-null   float64\n",
      " 9   Predicted_SpT  9361 non-null   object \n",
      "dtypes: float64(9), object(1)\n",
      "memory usage: 804.5+ KB\n"
     ]
    }
   ],
   "source": [
    "mdf = mdf[mdf['Mass[solMass]'] != -1]\n",
    "mdf.info()"
   ]
  },
  {
   "cell_type": "code",
   "execution_count": 8,
   "id": "2926543f-ee1d-476f-b0b1-9871f6a16cc1",
   "metadata": {
    "tags": []
   },
   "outputs": [
    {
     "data": {
      "text/html": [
       "<div>\n",
       "<style scoped>\n",
       "    .dataframe tbody tr th:only-of-type {\n",
       "        vertical-align: middle;\n",
       "    }\n",
       "\n",
       "    .dataframe tbody tr th {\n",
       "        vertical-align: top;\n",
       "    }\n",
       "\n",
       "    .dataframe thead th {\n",
       "        text-align: right;\n",
       "    }\n",
       "</style>\n",
       "<table border=\"1\" class=\"dataframe\">\n",
       "  <thead>\n",
       "    <tr style=\"text-align: right;\">\n",
       "      <th></th>\n",
       "      <th>B-V</th>\n",
       "      <th>log.Teff [K]</th>\n",
       "      <th>Absolute Mag</th>\n",
       "      <th>Mass[solMass]</th>\n",
       "      <th>Vmag</th>\n",
       "      <th>Plx</th>\n",
       "      <th>Age [yr]</th>\n",
       "      <th>Distance</th>\n",
       "      <th>logL</th>\n",
       "      <th>Predicted_SpT</th>\n",
       "      <th>Mass Range</th>\n",
       "    </tr>\n",
       "  </thead>\n",
       "  <tbody>\n",
       "    <tr>\n",
       "      <th>0</th>\n",
       "      <td>1.24</td>\n",
       "      <td>3.750</td>\n",
       "      <td>0.39</td>\n",
       "      <td>3.96</td>\n",
       "      <td>11.54</td>\n",
       "      <td>0.000589</td>\n",
       "      <td>135000000.0</td>\n",
       "      <td>1698.243652</td>\n",
       "      <td>2.41</td>\n",
       "      <td>K</td>\n",
       "      <td>4</td>\n",
       "    </tr>\n",
       "    <tr>\n",
       "      <th>1</th>\n",
       "      <td>1.24</td>\n",
       "      <td>3.750</td>\n",
       "      <td>0.39</td>\n",
       "      <td>3.95</td>\n",
       "      <td>11.54</td>\n",
       "      <td>0.000589</td>\n",
       "      <td>137000000.0</td>\n",
       "      <td>1698.243652</td>\n",
       "      <td>2.41</td>\n",
       "      <td>K</td>\n",
       "      <td>4</td>\n",
       "    </tr>\n",
       "    <tr>\n",
       "      <th>2</th>\n",
       "      <td>0.40</td>\n",
       "      <td>4.133</td>\n",
       "      <td>0.53</td>\n",
       "      <td>4.48</td>\n",
       "      <td>11.68</td>\n",
       "      <td>0.000589</td>\n",
       "      <td>61200000.0</td>\n",
       "      <td>1698.243652</td>\n",
       "      <td>2.66</td>\n",
       "      <td>B</td>\n",
       "      <td>5</td>\n",
       "    </tr>\n",
       "    <tr>\n",
       "      <th>3</th>\n",
       "      <td>0.40</td>\n",
       "      <td>4.133</td>\n",
       "      <td>0.53</td>\n",
       "      <td>4.23</td>\n",
       "      <td>11.68</td>\n",
       "      <td>0.000589</td>\n",
       "      <td>86300000.0</td>\n",
       "      <td>1698.243652</td>\n",
       "      <td>2.66</td>\n",
       "      <td>B</td>\n",
       "      <td>5</td>\n",
       "    </tr>\n",
       "    <tr>\n",
       "      <th>4</th>\n",
       "      <td>0.40</td>\n",
       "      <td>4.133</td>\n",
       "      <td>0.53</td>\n",
       "      <td>4.22</td>\n",
       "      <td>11.68</td>\n",
       "      <td>0.000589</td>\n",
       "      <td>86700000.0</td>\n",
       "      <td>1698.243652</td>\n",
       "      <td>2.66</td>\n",
       "      <td>B</td>\n",
       "      <td>5</td>\n",
       "    </tr>\n",
       "  </tbody>\n",
       "</table>\n",
       "</div>"
      ],
      "text/plain": [
       "    B-V  log.Teff [K]  Absolute Mag  Mass[solMass]   Vmag       Plx   \n",
       "0  1.24         3.750          0.39           3.96  11.54  0.000589  \\\n",
       "1  1.24         3.750          0.39           3.95  11.54  0.000589   \n",
       "2  0.40         4.133          0.53           4.48  11.68  0.000589   \n",
       "3  0.40         4.133          0.53           4.23  11.68  0.000589   \n",
       "4  0.40         4.133          0.53           4.22  11.68  0.000589   \n",
       "\n",
       "      Age [yr]     Distance  logL Predicted_SpT  Mass Range  \n",
       "0  135000000.0  1698.243652  2.41             K           4  \n",
       "1  137000000.0  1698.243652  2.41             K           4  \n",
       "2   61200000.0  1698.243652  2.66             B           5  \n",
       "3   86300000.0  1698.243652  2.66             B           5  \n",
       "4   86700000.0  1698.243652  2.66             B           5  "
      ]
     },
     "execution_count": 8,
     "metadata": {},
     "output_type": "execute_result"
    }
   ],
   "source": [
    "def assign_mass_range(mass):\n",
    "    if 0 <= mass < 0.2:\n",
    "        return 0\n",
    "    elif 0.2 <= mass < 0.65:\n",
    "        return 1\n",
    "    elif 0.65 <= mass < 1:\n",
    "        return 2\n",
    "    elif 1 <= mass < 2:\n",
    "        return 3\n",
    "    elif 2 <= mass < 4:\n",
    "        return 4\n",
    "    elif 4 <= mass < 6:\n",
    "        return 5\n",
    "    elif 6 <= mass < 10:\n",
    "        return 6\n",
    "    elif 10 <= mass < 20:\n",
    "        return 7\n",
    "    elif 20 <= mass < 30:\n",
    "        return 8\n",
    "    elif 30 <= mass < 300:\n",
    "        return 9\n",
    "    else:\n",
    "        return -1 \n",
    "mdf['Mass Range'] = mdf['Mass[solMass]'].apply(assign_mass_range)\n",
    "mdf.head()"
   ]
  },
  {
   "cell_type": "code",
   "execution_count": 11,
   "id": "362b7484-3842-438c-81d3-f40b634908a7",
   "metadata": {
    "tags": []
   },
   "outputs": [
    {
     "data": {
      "text/html": [
       "<div>\n",
       "<style scoped>\n",
       "    .dataframe tbody tr th:only-of-type {\n",
       "        vertical-align: middle;\n",
       "    }\n",
       "\n",
       "    .dataframe tbody tr th {\n",
       "        vertical-align: top;\n",
       "    }\n",
       "\n",
       "    .dataframe thead th {\n",
       "        text-align: right;\n",
       "    }\n",
       "</style>\n",
       "<table border=\"1\" class=\"dataframe\">\n",
       "  <thead>\n",
       "    <tr style=\"text-align: right;\">\n",
       "      <th></th>\n",
       "      <th>B-V</th>\n",
       "      <th>log.Teff [K]</th>\n",
       "      <th>Absolute Mag</th>\n",
       "      <th>Mass[solMass]</th>\n",
       "      <th>Vmag</th>\n",
       "      <th>Plx</th>\n",
       "      <th>Age [yr]</th>\n",
       "      <th>Distance</th>\n",
       "      <th>logL</th>\n",
       "      <th>Predicted_SpT</th>\n",
       "      <th>Mass Range</th>\n",
       "      <th>PSpT</th>\n",
       "    </tr>\n",
       "  </thead>\n",
       "  <tbody>\n",
       "    <tr>\n",
       "      <th>0</th>\n",
       "      <td>1.24</td>\n",
       "      <td>3.750</td>\n",
       "      <td>0.39</td>\n",
       "      <td>3.96</td>\n",
       "      <td>11.54</td>\n",
       "      <td>0.000589</td>\n",
       "      <td>135000000.0</td>\n",
       "      <td>1698.243652</td>\n",
       "      <td>2.41</td>\n",
       "      <td>K</td>\n",
       "      <td>4</td>\n",
       "      <td>5</td>\n",
       "    </tr>\n",
       "    <tr>\n",
       "      <th>1</th>\n",
       "      <td>1.24</td>\n",
       "      <td>3.750</td>\n",
       "      <td>0.39</td>\n",
       "      <td>3.95</td>\n",
       "      <td>11.54</td>\n",
       "      <td>0.000589</td>\n",
       "      <td>137000000.0</td>\n",
       "      <td>1698.243652</td>\n",
       "      <td>2.41</td>\n",
       "      <td>K</td>\n",
       "      <td>4</td>\n",
       "      <td>5</td>\n",
       "    </tr>\n",
       "    <tr>\n",
       "      <th>2</th>\n",
       "      <td>0.40</td>\n",
       "      <td>4.133</td>\n",
       "      <td>0.53</td>\n",
       "      <td>4.48</td>\n",
       "      <td>11.68</td>\n",
       "      <td>0.000589</td>\n",
       "      <td>61200000.0</td>\n",
       "      <td>1698.243652</td>\n",
       "      <td>2.66</td>\n",
       "      <td>B</td>\n",
       "      <td>5</td>\n",
       "      <td>1</td>\n",
       "    </tr>\n",
       "    <tr>\n",
       "      <th>3</th>\n",
       "      <td>0.40</td>\n",
       "      <td>4.133</td>\n",
       "      <td>0.53</td>\n",
       "      <td>4.23</td>\n",
       "      <td>11.68</td>\n",
       "      <td>0.000589</td>\n",
       "      <td>86300000.0</td>\n",
       "      <td>1698.243652</td>\n",
       "      <td>2.66</td>\n",
       "      <td>B</td>\n",
       "      <td>5</td>\n",
       "      <td>1</td>\n",
       "    </tr>\n",
       "    <tr>\n",
       "      <th>4</th>\n",
       "      <td>0.40</td>\n",
       "      <td>4.133</td>\n",
       "      <td>0.53</td>\n",
       "      <td>4.22</td>\n",
       "      <td>11.68</td>\n",
       "      <td>0.000589</td>\n",
       "      <td>86700000.0</td>\n",
       "      <td>1698.243652</td>\n",
       "      <td>2.66</td>\n",
       "      <td>B</td>\n",
       "      <td>5</td>\n",
       "      <td>1</td>\n",
       "    </tr>\n",
       "  </tbody>\n",
       "</table>\n",
       "</div>"
      ],
      "text/plain": [
       "    B-V  log.Teff [K]  Absolute Mag  Mass[solMass]   Vmag       Plx   \n",
       "0  1.24         3.750          0.39           3.96  11.54  0.000589  \\\n",
       "1  1.24         3.750          0.39           3.95  11.54  0.000589   \n",
       "2  0.40         4.133          0.53           4.48  11.68  0.000589   \n",
       "3  0.40         4.133          0.53           4.23  11.68  0.000589   \n",
       "4  0.40         4.133          0.53           4.22  11.68  0.000589   \n",
       "\n",
       "      Age [yr]     Distance  logL Predicted_SpT  Mass Range  PSpT  \n",
       "0  135000000.0  1698.243652  2.41             K           4     5  \n",
       "1  137000000.0  1698.243652  2.41             K           4     5  \n",
       "2   61200000.0  1698.243652  2.66             B           5     1  \n",
       "3   86300000.0  1698.243652  2.66             B           5     1  \n",
       "4   86700000.0  1698.243652  2.66             B           5     1  "
      ]
     },
     "execution_count": 11,
     "metadata": {},
     "output_type": "execute_result"
    }
   ],
   "source": [
    "spectral_type_mapping = {\n",
    "    \"O\": 0,\n",
    "    \"B\": 1,\n",
    "    \"A\": 2,\n",
    "    \"F\": 3,\n",
    "    \"G\": 4,\n",
    "    \"K\": 5,\n",
    "    \"M\": 6\n",
    "}\n",
    "mdf[\"PSpT\"] = mdf[\"Predicted_SpT\"].map(spectral_type_mapping)\n",
    "mdf.head()"
   ]
  },
  {
   "cell_type": "code",
   "execution_count": 12,
   "id": "d8bce274-d855-4c60-a72e-4d6747568bc4",
   "metadata": {
    "tags": []
   },
   "outputs": [
    {
     "data": {
      "image/png": "[encoded data removed]",
      "text/plain": [
       "<Figure size 700x700 with 1 Axes>"
      ]
     },
     "metadata": {},
     "output_type": "display_data"
    }
   ],
   "source": [
    "spectral_types = ['O', 'B', 'A', 'F', 'G', 'K', 'M']\n",
    "\n",
    "colormap = plt.get_cmap('coolwarm', len(spectral_types))\n",
    "\n",
    "plt.figure(figsize=(7, 7))\n",
    "\n",
    "for i, sp_type in enumerate(spectral_types):\n",
    "    sp_type_data = mdf[mdf['Predicted_SpT'] == sp_type]\n",
    "    color = colormap(i / len(spectral_types))  # Adjust the color based on position\n",
    "    plt.scatter(sp_type_data['B-V'], sp_type_data['Absolute Mag'], s=25, color=color, marker=\"*\", label=sp_type)\n",
    "\n",
    "plt.gca().invert_yaxis()\n",
    "plt.xlabel('B-V')\n",
    "plt.ylabel('Absolute magnitude')\n",
    "plt.title('HR Diagram')\n",
    "\n",
    "# Add a legend to the plot to label spectral types\n",
    "plt.legend(title='Spectral Type', loc='lower left')\n",
    "\n",
    "plt.grid(True)\n",
    "plt.show()"
   ]
  },
  {
   "cell_type": "code",
   "execution_count": 19,
   "id": "5b2e8597-bd39-490c-b219-39bcf3599478",
   "metadata": {
    "tags": []
   },
   "outputs": [
    {
     "name": "stdout",
     "output_type": "stream",
     "text": [
      "No of 3 originally in SpT: 5361\n",
      "No of 4 originally in SpT: 2578\n",
      "No of 5 originally in SpT: 480\n",
      "No of 2 originally in SpT: 428\n",
      "No of 6 originally in SpT: 215\n",
      "No of 1 originally in SpT: 145\n",
      "No of 0 originally in SpT: 66\n",
      "No of 7 originally in SpT: 56\n",
      "No of 8 originally in SpT: 17\n",
      "No of 9 originally in SpT: 15\n",
      "\n",
      "\n",
      "No of training 3 in SpT: 4242\n",
      "No of training 2 in SpT: 4028\n",
      "No of training 9 in SpT: 4026\n",
      "No of training 0 in SpT: 4022\n",
      "No of training 7 in SpT: 4011\n",
      "No of training 1 in SpT: 3999\n",
      "No of training 6 in SpT: 3998\n",
      "No of training 5 in SpT: 3996\n",
      "No of training 8 in SpT: 3991\n",
      "No of training 4 in SpT: 3975\n",
      "\n",
      "---------------------------------------------------\n",
      "No of testing 3 in SpT: 1119\n",
      "No of testing 4 in SpT: 1025\n",
      "No of testing 8 in SpT: 1009\n",
      "No of testing 5 in SpT: 1004\n",
      "No of testing 6 in SpT: 1002\n",
      "No of testing 1 in SpT: 1001\n",
      "No of testing 7 in SpT: 989\n",
      "No of testing 0 in SpT: 978\n",
      "No of testing 9 in SpT: 974\n",
      "No of testing 2 in SpT: 972\n"
     ]
    },
    {
     "data": {
      "application/vnd.jupyter.widget-view+json": {
       "model_id": "86f2eaa23c7a491abe1ca4b9ef53cb90",
       "version_major": 2,
       "version_minor": 0
      },
      "text/plain": [
       "Training models:   0%|          | 0/5 [00:00<?, ?it/s]"
      ]
     },
     "metadata": {},
     "output_type": "display_data"
    },
    {
     "data": {
      "application/vnd.jupyter.widget-view+json": {
       "model_id": "8d91511355024c38b81bd9de826a84e3",
       "version_major": 2,
       "version_minor": 0
      },
      "text/plain": [
       "Training Gradient Boosting:   0%|          | 0/1 [00:00<?, ?it/s]"
      ]
     },
     "metadata": {},
     "output_type": "display_data"
    },
    {
     "name": "stdout",
     "output_type": "stream",
     "text": [
      "      Iter       Train Loss   Remaining Time \n",
      "         1           1.7441            4.26m\n",
      "         2           1.4501            4.36m\n",
      "         3           1.2497            4.33m\n",
      "         4           1.0952            4.22m\n",
      "         5           0.9769            4.21m\n",
      "         6           0.8828            4.17m\n",
      "         7           0.7991            4.09m\n",
      "         8           0.7267            4.05m\n",
      "         9           0.6672            4.04m\n",
      "        10           0.6181            4.07m\n",
      "        20           0.3574            3.59m\n",
      "        30           0.2620            3.16m\n",
      "        40           0.2051            2.75m\n",
      "        50           0.1723            2.41m\n",
      "        60           0.1507            2.05m\n",
      "        70           0.1365            1.70m\n",
      "        80           0.1253            1.35m\n",
      "        90           0.1160            1.01m\n",
      "       100           0.1089           40.00s\n",
      "      Iter       Train Loss   Remaining Time \n",
      "         1           1.7456            2.11m\n",
      "         2           1.4515            2.25m\n",
      "         3           1.2523            2.24m\n",
      "         4           1.0979            2.28m\n",
      "         5           0.9788            2.31m\n",
      "         6           0.8815            2.27m\n",
      "         7           0.7946            2.31m\n",
      "         8           0.7231            2.32m\n",
      "         9           0.6631            2.28m\n",
      "        10           0.6130            2.30m\n",
      "        20           0.3546            2.08m\n",
      "        30           0.2586            1.90m\n",
      "        40           0.2045            1.69m\n",
      "        50           0.1698            1.50m\n",
      "        60           0.1478            1.29m\n",
      "        70           0.1324            1.08m\n",
      "        80           0.1216           51.91s\n",
      "        90           0.1132           38.91s\n",
      "       100           0.1056           25.80s\n",
      "      Iter       Train Loss   Remaining Time \n",
      "         1           1.7433            2.40m\n",
      "         2           1.4468            2.42m\n",
      "         3           1.2460            2.50m\n",
      "         4           1.0942            2.52m\n",
      "         5           0.9762            2.49m\n",
      "         6           0.8813            2.41m\n",
      "         7           0.8040            2.41m\n",
      "         8           0.7328            2.37m\n",
      "         9           0.6739            2.37m\n",
      "        10           0.6231            2.38m\n",
      "        20           0.3622            2.15m\n",
      "        30           0.2651            1.93m\n",
      "        40           0.2097            1.72m\n",
      "        50           0.1759            1.49m\n",
      "        60           0.1529            1.28m\n",
      "        70           0.1385            1.08m\n",
      "        80           0.1266           51.98s\n",
      "        90           0.1158           38.93s\n",
      "       100           0.1075           25.92s\n",
      "      Iter       Train Loss   Remaining Time \n",
      "         1           1.7420            2.37m\n",
      "         2           1.4485            2.41m\n",
      "         3           1.2466            2.54m\n",
      "         4           1.0941            2.45m\n",
      "         5           0.9742            2.43m\n",
      "         6           0.8796            2.43m\n",
      "         7           0.7937            2.37m\n",
      "         8           0.7243            2.34m\n",
      "         9           0.6648            2.32m\n",
      "        10           0.6141            2.28m\n",
      "        20           0.3505            2.08m\n",
      "        30           0.2550            1.86m\n",
      "        40           0.1980            1.66m\n",
      "        50           0.1674            1.45m\n",
      "        60           0.1452            1.25m\n",
      "        70           0.1313            1.04m\n",
      "        80           0.1214           50.04s\n",
      "        90           0.1123           37.63s\n",
      "       100           0.1049           25.08s\n",
      "\n",
      "\n",
      "-------------------------Model: Gradient Boosting-------------------------\n",
      "Accuracy: 0.9602898838479103\n",
      "Precision: 0.9608077895032507\n",
      "Recall: 0.9602898838479103\n",
      "F1 Score: 0.9602162347403698\n",
      "Confusion Matrix: \n",
      " [[ 970    7    1    0    0    0    0    0    0    0]\n",
      " [  17  963   21    0    0    0    0    0    0    0]\n",
      " [  18   48  899    2    1    0    4    0    0    0]\n",
      " [   2    7   15 1067   28    0    0    0    0    0]\n",
      " [   0    0    0   19  933   71    2    0    0    0]\n",
      " [   0    0    0    0   16  964   18    2    0    4]\n",
      " [   1    3    1    0    0   13  979    5    0    0]\n",
      " [   0    0    0    0    0    0    5  927   57    0]\n",
      " [   0    0    0    0    0    0    0    0 1008    1]\n",
      " [   0    2    0    2    0    0    2    3    2  963]]\n",
      "Cross-Validation Accuracy: 0.9620482660884327\n",
      "\n",
      "\n"
     ]
    },
    {
     "data": {
      "application/vnd.jupyter.widget-view+json": {
       "model_id": "4c98796eda7246af90fe6b1b1e1f54c7",
       "version_major": 2,
       "version_minor": 0
      },
      "text/plain": [
       "Training Random Forest:   0%|          | 0/1 [00:00<?, ?it/s]"
      ]
     },
     "metadata": {},
     "output_type": "display_data"
    },
    {
     "name": "stderr",
     "output_type": "stream",
     "text": [
      "[Parallel(n_jobs=1)]: Done  49 tasks      | elapsed:    8.6s\n",
      "[Parallel(n_jobs=1)]: Done 199 tasks      | elapsed:   34.5s\n",
      "[Parallel(n_jobs=1)]: Done  49 tasks      | elapsed:    0.0s\n",
      "[Parallel(n_jobs=1)]: Done 199 tasks      | elapsed:    0.3s\n",
      "[Parallel(n_jobs=1)]: Done  49 tasks      | elapsed:    5.6s\n",
      "[Parallel(n_jobs=1)]: Done 199 tasks      | elapsed:   22.7s\n",
      "[Parallel(n_jobs=1)]: Done  49 tasks      | elapsed:    0.1s\n",
      "[Parallel(n_jobs=1)]: Done 199 tasks      | elapsed:    0.7s\n",
      "[Parallel(n_jobs=1)]: Done  49 tasks      | elapsed:    5.6s\n",
      "[Parallel(n_jobs=1)]: Done 199 tasks      | elapsed:   22.5s\n",
      "[Parallel(n_jobs=1)]: Done  49 tasks      | elapsed:    0.1s\n",
      "[Parallel(n_jobs=1)]: Done 199 tasks      | elapsed:    0.6s\n",
      "[Parallel(n_jobs=1)]: Done  49 tasks      | elapsed:    6.7s\n",
      "[Parallel(n_jobs=1)]: Done 199 tasks      | elapsed:   25.9s\n",
      "[Parallel(n_jobs=1)]: Done  49 tasks      | elapsed:    0.0s\n",
      "[Parallel(n_jobs=1)]: Done 199 tasks      | elapsed:    0.5s\n"
     ]
    },
    {
     "name": "stdout",
     "output_type": "stream",
     "text": [
      "\n",
      "\n",
      "-------------------------Model: Random Forest-------------------------\n",
      "Accuracy: 0.9726000198550581\n",
      "Precision: 0.97273006317187\n",
      "Recall: 0.9726000198550581\n",
      "F1 Score: 0.9725576844521389\n",
      "Confusion Matrix: \n",
      " [[ 970    1    7    0    0    0    0    0    0    0]\n",
      " [   8  986    7    0    0    0    0    0    0    0]\n",
      " [  11   25  929    5    0    0    2    0    0    0]\n",
      " [   2    7   10 1086   14    0    0    0    0    0]\n",
      " [   0    0    0   18  958   47    2    0    0    0]\n",
      " [   0    0    0    0   17  978    9    0    0    0]\n",
      " [   1    2    1    0    1    4  990    3    0    0]\n",
      " [   0    0    0    0    0    0    0  939   50    0]\n",
      " [   0    0    0    0    0    0    0   20  989    0]\n",
      " [   0    0    0    0    0    0    0    1    1  972]]\n",
      "Cross-Validation Accuracy: 0.9730689340467625\n",
      "\n",
      "\n"
     ]
    },
    {
     "data": {
      "application/vnd.jupyter.widget-view+json": {
       "model_id": "c2c10067b2994cf8bca239cf83a2251f",
       "version_major": 2,
       "version_minor": 0
      },
      "text/plain": [
       "Training Support Vector Machine (SVM):   0%|          | 0/1 [00:00<?, ?it/s]"
      ]
     },
     "metadata": {},
     "output_type": "display_data"
    },
    {
     "name": "stdout",
     "output_type": "stream",
     "text": [
      "[LibSVM][LibSVM][LibSVM][LibSVM]\n",
      "\n",
      "-------------------------Model: Support Vector Machine (SVM)-------------------------\n",
      "Accuracy: 0.826566067705748\n",
      "Precision: 0.8355498111145058\n",
      "Recall: 0.826566067705748\n",
      "F1 Score: 0.8259270400818747\n",
      "Confusion Matrix: \n",
      " [[962  16   0   0   0   0   0   0   0   0]\n",
      " [284 638  71   0   8   0   0   0   0   0]\n",
      " [ 67 100 801   0   4   0   0   0   0   0]\n",
      " [  9  12  77 927  94   0   0   0   0   0]\n",
      " [  0   9   2  54 802 158   0   0   0   0]\n",
      " [  0   0   0   0  80 829  88   7   0   0]\n",
      " [  0  13  19   0  20 115 739  96   0   0]\n",
      " [  0   0   0   0   0   0  68 798 123   0]\n",
      " [  0   0   0   0   0   0   0   0 996  13]\n",
      " [ 73   0   3  21   7  11   6   8  11 834]]\n",
      "Cross-Validation Accuracy: 0.7993446592552494\n",
      "\n",
      "\n"
     ]
    },
    {
     "data": {
      "application/vnd.jupyter.widget-view+json": {
       "model_id": "4f3ae7a933354fe7babce7f1724f4d7b",
       "version_major": 2,
       "version_minor": 0
      },
      "text/plain": [
       "Training Logistic Regression:   0%|          | 0/1 [00:00<?, ?it/s]"
      ]
     },
     "metadata": {},
     "output_type": "display_data"
    },
    {
     "name": "stderr",
     "output_type": "stream",
     "text": [
      "C:\\Users\\keera\\AppData\\Local\\Programs\\Python\\Python311\\Lib\\site-packages\\sklearn\\linear_model\\_logistic.py:460: ConvergenceWarning: lbfgs failed to converge (status=1):\n",
      "STOP: TOTAL NO. of ITERATIONS REACHED LIMIT.\n",
      "\n",
      "Increase the number of iterations (max_iter) or scale the data as shown in:\n",
      "    https://scikit-learn.org/stable/modules/preprocessing.html\n",
      "Please also refer to the documentation for alternative solver options:\n",
      "    https://scikit-learn.org/stable/modules/linear_model.html#logistic-regression\n",
      "  n_iter_i = _check_optimize_result(\n",
      "C:\\Users\\keera\\AppData\\Local\\Programs\\Python\\Python311\\Lib\\site-packages\\sklearn\\linear_model\\_logistic.py:460: ConvergenceWarning: lbfgs failed to converge (status=1):\n",
      "STOP: TOTAL NO. of ITERATIONS REACHED LIMIT.\n",
      "\n",
      "Increase the number of iterations (max_iter) or scale the data as shown in:\n",
      "    https://scikit-learn.org/stable/modules/preprocessing.html\n",
      "Please also refer to the documentation for alternative solver options:\n",
      "    https://scikit-learn.org/stable/modules/linear_model.html#logistic-regression\n",
      "  n_iter_i = _check_optimize_result(\n",
      "C:\\Users\\keera\\AppData\\Local\\Programs\\Python\\Python311\\Lib\\site-packages\\sklearn\\linear_model\\_logistic.py:460: ConvergenceWarning: lbfgs failed to converge (status=1):\n",
      "STOP: TOTAL NO. of ITERATIONS REACHED LIMIT.\n",
      "\n",
      "Increase the number of iterations (max_iter) or scale the data as shown in:\n",
      "    https://scikit-learn.org/stable/modules/preprocessing.html\n",
      "Please also refer to the documentation for alternative solver options:\n",
      "    https://scikit-learn.org/stable/modules/linear_model.html#logistic-regression\n",
      "  n_iter_i = _check_optimize_result(\n"
     ]
    },
    {
     "name": "stdout",
     "output_type": "stream",
     "text": [
      "\n",
      "\n",
      "-------------------------Model: Logistic Regression-------------------------\n",
      "Accuracy: 0.7028690558919884\n",
      "Precision: 0.7098917746434044\n",
      "Recall: 0.7028690558919884\n",
      "F1 Score: 0.7004578062031879\n",
      "Confusion Matrix: \n",
      " [[747 214  17   0   0   0   0   0   0   0]\n",
      " [451 407 131   0  12   0   0   0   0   0]\n",
      " [ 59  36 745 131   1   0   0   0   0   0]\n",
      " [ 27   3 138 814 136   1   0   0   0   0]\n",
      " [ 48   0   1 131 673 143  29   0   0   0]\n",
      " [  0   0   0   0  85 660 222   5  21  11]\n",
      " [ 14   7  11   0   0 170 517 229  34  20]\n",
      " [  0   0   0   0   0   0  73 854   7  55]\n",
      " [  0   0   0   0   0   7  16 147 839   0]\n",
      " [ 71   0   0   6  17  16  20   3  17 824]]\n",
      "Cross-Validation Accuracy: 0.7054458829750597\n",
      "\n",
      "\n"
     ]
    },
    {
     "name": "stderr",
     "output_type": "stream",
     "text": [
      "C:\\Users\\keera\\AppData\\Local\\Programs\\Python\\Python311\\Lib\\site-packages\\sklearn\\linear_model\\_logistic.py:460: ConvergenceWarning: lbfgs failed to converge (status=1):\n",
      "STOP: TOTAL NO. of ITERATIONS REACHED LIMIT.\n",
      "\n",
      "Increase the number of iterations (max_iter) or scale the data as shown in:\n",
      "    https://scikit-learn.org/stable/modules/preprocessing.html\n",
      "Please also refer to the documentation for alternative solver options:\n",
      "    https://scikit-learn.org/stable/modules/linear_model.html#logistic-regression\n",
      "  n_iter_i = _check_optimize_result(\n"
     ]
    },
    {
     "data": {
      "application/vnd.jupyter.widget-view+json": {
       "model_id": "67df292f565c4b1cb78eb0253ad2c13e",
       "version_major": 2,
       "version_minor": 0
      },
      "text/plain": [
       "Training k-Nearest Neighbors (KNN):   0%|          | 0/1 [00:00<?, ?it/s]"
      ]
     },
     "metadata": {},
     "output_type": "display_data"
    },
    {
     "name": "stdout",
     "output_type": "stream",
     "text": [
      "\n",
      "\n",
      "-------------------------Model: k-Nearest Neighbors (KNN)-------------------------\n",
      "Accuracy: 0.907971805817532\n",
      "Precision: 0.9091854796651108\n",
      "Recall: 0.907971805817532\n",
      "F1 Score: 0.9077692881240053\n",
      "Confusion Matrix: \n",
      " [[ 943   29    6    0    0    0    0    0    0    0]\n",
      " [  44  925   24    0    0    0    0    0    0    8]\n",
      " [  36   77  845    0    5    0    9    0    0    0]\n",
      " [   4   13   52  993   54    0    0    0    0    3]\n",
      " [   0    4    1   61  828  122    9    0    0    0]\n",
      " [   0    0    0    0   39  906   53    1    0    5]\n",
      " [   0   11   11    0    6   45  911   18    0    0]\n",
      " [   0    0    0    0    0    0   29  900   60    0]\n",
      " [   0    0    0    0    0    0    0    0 1008    1]\n",
      " [   8    0   20   25    5    2    7    6   14  887]]\n",
      "Cross-Validation Accuracy: 0.8964455589595878\n",
      "\n",
      "\n"
     ]
    }
   ],
   "source": [
    "import pandas as pd\n",
    "from sklearn.model_selection import train_test_split\n",
    "from sklearn.ensemble import RandomForestClassifier\n",
    "from sklearn.model_selection import cross_val_score\n",
    "from sklearn.svm import SVC\n",
    "from sklearn.ensemble import GradientBoostingClassifier\n",
    "from sklearn.metrics import accuracy_score, precision_score, recall_score, f1_score, confusion_matrix\n",
    "from sklearn.linear_model import LogisticRegression\n",
    "from sklearn.neighbors import KNeighborsClassifier\n",
    "from sklearn.naive_bayes import MultinomialNB\n",
    "from sklearn.naive_bayes import GaussianNB\n",
    "from sklearn.linear_model import SGDClassifier\n",
    "from sklearn.ensemble import GradientBoostingClassifier, AdaBoostClassifier\n",
    "from sklearn.metrics import make_scorer\n",
    "from imblearn.over_sampling import SMOTE\n",
    "from tqdm.notebook import tqdm_notebook as tqdm\n",
    "import time\n",
    "import joblib\n",
    "import os\n",
    "\n",
    "\n",
    "X = mdf[[\"B-V\",\"Absolute Mag\", \"Vmag\", \"PSpT\", \"log.Teff [K]\"]]\n",
    "\n",
    "y = mdf[\"Mass Range\"]\n",
    "\n",
    "class_counts = mdf[\"Mass Range\"].value_counts()\n",
    "for class_label, count in class_counts.items():\n",
    "    print(f\"No of {class_label} originally in SpT: {count}\")\n",
    "print(\"\\n\")\n",
    "\n",
    "desired_oversampling_ratio = 5000\n",
    "\n",
    "# desired_oversampling_ratio1 = 100\n",
    "\n",
    "sampling_strategy = {\n",
    "    0: desired_oversampling_ratio,  # For class 'O'\n",
    "    2:desired_oversampling_ratio,\n",
    "    1:desired_oversampling_ratio,\n",
    "    4:desired_oversampling_ratio,\n",
    "    5:desired_oversampling_ratio,\n",
    "    6:desired_oversampling_ratio,\n",
    "    7:desired_oversampling_ratio,\n",
    "    8:desired_oversampling_ratio,\n",
    "    9:desired_oversampling_ratio,\n",
    "    # 6: desired_oversampling_ratio\n",
    "}\n",
    "\n",
    "smote = SMOTE(sampling_strategy=sampling_strategy, random_state=42)\n",
    "X_resampled, y_resampled = smote.fit_resample(X, y)\n",
    "\n",
    "X_train, X_test, y_train, y_test = train_test_split(X_resampled, y_resampled, test_size=0.2, random_state=42)\n",
    "\n",
    "selected_features = [\"B-V\",\"Absolute Mag\", \"Vmag\", \"PSpT\", \"log.Teff [K]\"]\n",
    "\n",
    "X_train = X_train[selected_features]\n",
    "X_test = X_test[selected_features]\n",
    "\n",
    "class_counts = y_train.value_counts()\n",
    "for class_label, count in class_counts.items():\n",
    "    print(f\"No of training {class_label} in SpT: {count}\")\n",
    "    \n",
    "print('\\n---------------------------------------------------')\n",
    "\n",
    "class_counts = y_test.value_counts()\n",
    "for class_label, count in class_counts.items():\n",
    "    print(f\"No of testing {class_label} in SpT: {count}\")\n",
    "\n",
    "models = [\n",
    "    ('Gradient Boosting', GradientBoostingClassifier(verbose=1, n_estimators=120, random_state=42)),\n",
    "    ('Random Forest', RandomForestClassifier(verbose=1, n_estimators=400, random_state=42)),\n",
    "    ('Support Vector Machine (SVM)', SVC(verbose=1, kernel='rbf')),\n",
    "    ('Logistic Regression', LogisticRegression(verbose=1, max_iter=3000)),\n",
    "    ('k-Nearest Neighbors (KNN)', KNeighborsClassifier(n_neighbors=50))\n",
    "]\n",
    "#output_folder = \"./MassPredictionModels\"\n",
    "for model_name, model in tqdm(models, desc=\"Training models\"):\n",
    "    with tqdm(total=1, desc=f\"Training {model_name}\") as pbar:\n",
    "        pbar.n = 0\n",
    "        pbar.last_print_n = 0\n",
    "        pbar.start_t = pbar.last_print_t = time.time()\n",
    "        pbar.update(1)\n",
    "        model.fit(X_train, y_train)\n",
    "        y_pred = model.predict(X_test)\n",
    "        accuracy = accuracy_score(y_test, y_pred)\n",
    "        precision = precision_score(y_test, y_pred, average='weighted')\n",
    "        recall = recall_score(y_test, y_pred, average='weighted')\n",
    "        f1 = f1_score(y_test, y_pred, average='weighted')\n",
    "        cm = confusion_matrix(y_test, y_pred)\n",
    "        cross_val_scores = cross_val_score(model, X_train, y_train, cv=3, scoring=make_scorer(accuracy_score))\n",
    "        # Create the full path to save the model\n",
    "        #model_path = os.path.join(output_folder, f'{model_name}.pkl')\n",
    "        # Save the model to the specified folder\n",
    "        #joblib.dump(model, model_path)\n",
    "        \n",
    "        print(\"\\n\")\n",
    "        print(f\"-------------------------Model: {model_name}-------------------------\")\n",
    "        print(f\"Accuracy: {accuracy}\")\n",
    "        print(f\"Precision: {precision}\")\n",
    "        print(f\"Recall: {recall}\")\n",
    "        print(f\"F1 Score: {f1}\")\n",
    "        print(f\"Confusion Matrix: \\n {cm}\")\n",
    "        print(f\"Cross-Validation Accuracy: {cross_val_scores.mean()}\")\n",
    "        print(\"\\n\")\n"
   ]
  },
  {
   "cell_type": "code",
   "execution_count": 56,
   "id": "b32621cf-76b6-4227-af25-62235d517dd9",
   "metadata": {
    "tags": []
   },
   "outputs": [
    {
     "data": {
      "image/png": "[encoded data removed]",
      "text/plain": [
       "<Figure size 700x700 with 1 Axes>"
      ]
     },
     "metadata": {},
     "output_type": "display_data"
    },
    {
     "name": "stdout",
     "output_type": "stream",
     "text": [
      "Epoch 1/80\n",
      "756/756 [==============================] - 6s 7ms/step - loss: 1.0813 - accuracy: 0.5840 - val_loss: 0.7886 - val_accuracy: 0.6860\n",
      "Epoch 2/80\n",
      "756/756 [==============================] - 5s 7ms/step - loss: 0.5682 - accuracy: 0.8150 - val_loss: 0.4722 - val_accuracy: 0.8484\n",
      "Epoch 3/80\n",
      "756/756 [==============================] - 5s 7ms/step - loss: 0.3839 - accuracy: 0.8756 - val_loss: 0.3529 - val_accuracy: 0.8747\n",
      "Epoch 4/80\n",
      "756/756 [==============================] - 5s 7ms/step - loss: 0.3136 - accuracy: 0.8958 - val_loss: 0.3171 - val_accuracy: 0.9002\n",
      "Epoch 5/80\n",
      "756/756 [==============================] - 5s 7ms/step - loss: 0.2696 - accuracy: 0.9111 - val_loss: 0.2418 - val_accuracy: 0.9275\n",
      "Epoch 6/80\n",
      "756/756 [==============================] - 5s 6ms/step - loss: 0.2440 - accuracy: 0.9178 - val_loss: 0.2281 - val_accuracy: 0.9279\n",
      "Epoch 7/80\n",
      "756/756 [==============================] - 5s 6ms/step - loss: 0.2201 - accuracy: 0.9261 - val_loss: 0.2187 - val_accuracy: 0.9266\n",
      "Epoch 8/80\n",
      "756/756 [==============================] - 5s 7ms/step - loss: 0.2037 - accuracy: 0.9310 - val_loss: 0.1906 - val_accuracy: 0.9369\n",
      "Epoch 9/80\n",
      "756/756 [==============================] - 5s 7ms/step - loss: 0.1950 - accuracy: 0.9327 - val_loss: 0.1808 - val_accuracy: 0.9415\n",
      "Epoch 10/80\n",
      "756/756 [==============================] - 5s 7ms/step - loss: 0.1805 - accuracy: 0.9373 - val_loss: 0.1878 - val_accuracy: 0.9365\n",
      "Epoch 11/80\n",
      "756/756 [==============================] - 5s 7ms/step - loss: 0.1728 - accuracy: 0.9391 - val_loss: 0.1835 - val_accuracy: 0.9396\n",
      "Epoch 12/80\n",
      "756/756 [==============================] - 5s 7ms/step - loss: 0.1673 - accuracy: 0.9414 - val_loss: 0.1669 - val_accuracy: 0.9440\n",
      "Epoch 13/80\n",
      "756/756 [==============================] - 5s 7ms/step - loss: 0.1581 - accuracy: 0.9452 - val_loss: 0.1722 - val_accuracy: 0.9407\n",
      "Epoch 14/80\n",
      "756/756 [==============================] - 5s 7ms/step - loss: 0.1566 - accuracy: 0.9455 - val_loss: 0.1585 - val_accuracy: 0.9447\n",
      "Epoch 15/80\n",
      "756/756 [==============================] - 6s 7ms/step - loss: 0.1518 - accuracy: 0.9460 - val_loss: 0.1706 - val_accuracy: 0.9428\n",
      "Epoch 16/80\n",
      "756/756 [==============================] - 5s 7ms/step - loss: 0.1483 - accuracy: 0.9476 - val_loss: 0.1510 - val_accuracy: 0.9518\n",
      "Epoch 17/80\n",
      "756/756 [==============================] - 5s 7ms/step - loss: 0.1413 - accuracy: 0.9502 - val_loss: 0.1570 - val_accuracy: 0.9440\n",
      "Epoch 18/80\n",
      "756/756 [==============================] - 5s 7ms/step - loss: 0.1400 - accuracy: 0.9501 - val_loss: 0.1481 - val_accuracy: 0.9493\n",
      "Epoch 19/80\n",
      "756/756 [==============================] - 5s 7ms/step - loss: 0.1348 - accuracy: 0.9524 - val_loss: 0.1331 - val_accuracy: 0.9522\n",
      "Epoch 20/80\n",
      "756/756 [==============================] - 5s 7ms/step - loss: 0.1350 - accuracy: 0.9516 - val_loss: 0.1785 - val_accuracy: 0.9369\n",
      "Epoch 21/80\n",
      "756/756 [==============================] - 5s 7ms/step - loss: 0.1344 - accuracy: 0.9539 - val_loss: 0.1451 - val_accuracy: 0.9532\n",
      "Epoch 22/80\n",
      "756/756 [==============================] - 5s 7ms/step - loss: 0.1289 - accuracy: 0.9546 - val_loss: 0.1444 - val_accuracy: 0.9515\n",
      "Epoch 23/80\n",
      "756/756 [==============================] - 5s 7ms/step - loss: 0.1250 - accuracy: 0.9555 - val_loss: 0.1497 - val_accuracy: 0.9451\n",
      "Epoch 24/80\n",
      "756/756 [==============================] - 5s 7ms/step - loss: 0.1305 - accuracy: 0.9537 - val_loss: 0.1404 - val_accuracy: 0.9535\n",
      "Epoch 25/80\n",
      "756/756 [==============================] - 5s 7ms/step - loss: 0.1240 - accuracy: 0.9569 - val_loss: 0.1443 - val_accuracy: 0.9502\n",
      "Epoch 26/80\n",
      "756/756 [==============================] - 5s 7ms/step - loss: 0.1244 - accuracy: 0.9560 - val_loss: 0.1346 - val_accuracy: 0.9567\n",
      "Epoch 27/80\n",
      "756/756 [==============================] - 5s 7ms/step - loss: 0.1217 - accuracy: 0.9568 - val_loss: 0.1273 - val_accuracy: 0.9577\n",
      "Epoch 28/80\n",
      "756/756 [==============================] - 5s 7ms/step - loss: 0.1199 - accuracy: 0.9570 - val_loss: 0.1371 - val_accuracy: 0.9522\n",
      "Epoch 29/80\n",
      "756/756 [==============================] - 5s 6ms/step - loss: 0.1196 - accuracy: 0.9581 - val_loss: 0.1295 - val_accuracy: 0.9551\n",
      "Epoch 30/80\n",
      "756/756 [==============================] - 5s 7ms/step - loss: 0.1156 - accuracy: 0.9594 - val_loss: 0.1263 - val_accuracy: 0.9567\n",
      "Epoch 31/80\n",
      "756/756 [==============================] - 5s 6ms/step - loss: 0.1189 - accuracy: 0.9591 - val_loss: 0.1267 - val_accuracy: 0.9580\n",
      "Epoch 32/80\n",
      "756/756 [==============================] - 5s 6ms/step - loss: 0.1138 - accuracy: 0.9599 - val_loss: 0.1297 - val_accuracy: 0.9568\n",
      "Epoch 33/80\n",
      "756/756 [==============================] - 5s 6ms/step - loss: 0.1136 - accuracy: 0.9602 - val_loss: 0.1296 - val_accuracy: 0.9559\n",
      "Epoch 34/80\n",
      "756/756 [==============================] - 5s 7ms/step - loss: 0.1156 - accuracy: 0.9590 - val_loss: 0.1397 - val_accuracy: 0.9515\n",
      "Epoch 35/80\n",
      "756/756 [==============================] - 5s 6ms/step - loss: 0.1131 - accuracy: 0.9605 - val_loss: 0.1185 - val_accuracy: 0.9590\n",
      "Epoch 36/80\n",
      "756/756 [==============================] - 5s 6ms/step - loss: 0.1127 - accuracy: 0.9600 - val_loss: 0.1698 - val_accuracy: 0.9438\n",
      "Epoch 37/80\n",
      "756/756 [==============================] - 5s 7ms/step - loss: 0.1097 - accuracy: 0.9612 - val_loss: 0.1180 - val_accuracy: 0.9608\n",
      "Epoch 38/80\n",
      "756/756 [==============================] - 5s 7ms/step - loss: 0.1110 - accuracy: 0.9618 - val_loss: 0.1247 - val_accuracy: 0.9583\n",
      "Epoch 39/80\n",
      "756/756 [==============================] - 5s 6ms/step - loss: 0.1078 - accuracy: 0.9625 - val_loss: 0.1282 - val_accuracy: 0.9563\n",
      "Epoch 40/80\n",
      "756/756 [==============================] - 5s 6ms/step - loss: 0.1102 - accuracy: 0.9623 - val_loss: 0.1145 - val_accuracy: 0.9631\n",
      "Epoch 41/80\n",
      "756/756 [==============================] - 5s 6ms/step - loss: 0.1112 - accuracy: 0.9610 - val_loss: 0.1383 - val_accuracy: 0.9519\n",
      "Epoch 42/80\n",
      "756/756 [==============================] - 5s 6ms/step - loss: 0.1078 - accuracy: 0.9608 - val_loss: 0.1200 - val_accuracy: 0.9579\n",
      "Epoch 43/80\n",
      "756/756 [==============================] - 5s 6ms/step - loss: 0.1067 - accuracy: 0.9628 - val_loss: 0.1318 - val_accuracy: 0.9448\n",
      "Epoch 44/80\n",
      "756/756 [==============================] - 5s 6ms/step - loss: 0.1080 - accuracy: 0.9615 - val_loss: 0.1087 - val_accuracy: 0.9638\n",
      "Epoch 45/80\n",
      "756/756 [==============================] - 5s 6ms/step - loss: 0.1060 - accuracy: 0.9612 - val_loss: 0.1299 - val_accuracy: 0.9544\n",
      "Epoch 46/80\n",
      "756/756 [==============================] - 5s 6ms/step - loss: 0.1051 - accuracy: 0.9632 - val_loss: 0.1253 - val_accuracy: 0.9574\n",
      "Epoch 47/80\n",
      "756/756 [==============================] - 5s 6ms/step - loss: 0.1035 - accuracy: 0.9635 - val_loss: 0.1158 - val_accuracy: 0.9603\n",
      "Epoch 48/80\n",
      "756/756 [==============================] - 5s 7ms/step - loss: 0.1016 - accuracy: 0.9642 - val_loss: 0.1212 - val_accuracy: 0.9562\n",
      "Epoch 49/80\n",
      "756/756 [==============================] - 5s 7ms/step - loss: 0.1033 - accuracy: 0.9636 - val_loss: 0.1334 - val_accuracy: 0.9434\n",
      "Epoch 50/80\n",
      "756/756 [==============================] - 5s 7ms/step - loss: 0.1055 - accuracy: 0.9621 - val_loss: 0.1298 - val_accuracy: 0.9523\n",
      "Epoch 51/80\n",
      "756/756 [==============================] - 5s 7ms/step - loss: 0.0994 - accuracy: 0.9650 - val_loss: 0.1112 - val_accuracy: 0.9628\n",
      "Epoch 52/80\n",
      "756/756 [==============================] - 5s 7ms/step - loss: 0.0990 - accuracy: 0.9657 - val_loss: 0.1385 - val_accuracy: 0.9496\n",
      "Epoch 53/80\n",
      "756/756 [==============================] - 5s 7ms/step - loss: 0.1001 - accuracy: 0.9657 - val_loss: 0.1244 - val_accuracy: 0.9589\n",
      "Epoch 54/80\n",
      "756/756 [==============================] - 5s 7ms/step - loss: 0.1020 - accuracy: 0.9643 - val_loss: 0.1116 - val_accuracy: 0.9596\n",
      "Epoch 55/80\n",
      "756/756 [==============================] - 5s 7ms/step - loss: 0.1002 - accuracy: 0.9646 - val_loss: 0.1316 - val_accuracy: 0.9573\n",
      "Epoch 56/80\n",
      "756/756 [==============================] - 5s 7ms/step - loss: 0.1002 - accuracy: 0.9642 - val_loss: 0.1146 - val_accuracy: 0.9612\n",
      "Epoch 57/80\n",
      "756/756 [==============================] - 5s 7ms/step - loss: 0.0990 - accuracy: 0.9646 - val_loss: 0.1231 - val_accuracy: 0.9587\n",
      "Epoch 58/80\n",
      "756/756 [==============================] - 5s 7ms/step - loss: 0.1008 - accuracy: 0.9656 - val_loss: 0.1107 - val_accuracy: 0.9610\n",
      "Epoch 59/80\n",
      "756/756 [==============================] - 5s 7ms/step - loss: 0.0969 - accuracy: 0.9657 - val_loss: 0.1153 - val_accuracy: 0.9604\n",
      "Epoch 60/80\n",
      "756/756 [==============================] - 5s 7ms/step - loss: 0.0983 - accuracy: 0.9650 - val_loss: 0.1140 - val_accuracy: 0.9646\n",
      "Epoch 61/80\n",
      "756/756 [==============================] - 5s 7ms/step - loss: 0.1008 - accuracy: 0.9646 - val_loss: 0.1105 - val_accuracy: 0.9638\n",
      "Epoch 62/80\n",
      "756/756 [==============================] - 5s 7ms/step - loss: 0.0954 - accuracy: 0.9665 - val_loss: 0.1138 - val_accuracy: 0.9604\n",
      "Epoch 63/80\n",
      "756/756 [==============================] - 5s 7ms/step - loss: 0.0968 - accuracy: 0.9655 - val_loss: 0.1337 - val_accuracy: 0.9562\n",
      "Epoch 64/80\n",
      "756/756 [==============================] - 5s 6ms/step - loss: 0.0948 - accuracy: 0.9660 - val_loss: 0.1409 - val_accuracy: 0.9519\n",
      "Epoch 65/80\n",
      "756/756 [==============================] - 5s 6ms/step - loss: 0.0967 - accuracy: 0.9649 - val_loss: 0.1197 - val_accuracy: 0.9592\n",
      "Epoch 66/80\n",
      "756/756 [==============================] - 5s 7ms/step - loss: 0.0945 - accuracy: 0.9648 - val_loss: 0.1151 - val_accuracy: 0.9597\n",
      "Epoch 67/80\n",
      "756/756 [==============================] - 5s 7ms/step - loss: 0.0983 - accuracy: 0.9645 - val_loss: 0.1082 - val_accuracy: 0.9633\n",
      "Epoch 68/80\n",
      "756/756 [==============================] - 5s 6ms/step - loss: 0.0925 - accuracy: 0.9672 - val_loss: 0.1252 - val_accuracy: 0.9555\n",
      "Epoch 69/80\n",
      "756/756 [==============================] - 5s 7ms/step - loss: 0.0952 - accuracy: 0.9662 - val_loss: 0.1056 - val_accuracy: 0.9653\n",
      "Epoch 70/80\n",
      "756/756 [==============================] - 5s 6ms/step - loss: 0.0936 - accuracy: 0.9661 - val_loss: 0.1106 - val_accuracy: 0.9646\n",
      "Epoch 71/80\n",
      "756/756 [==============================] - 5s 7ms/step - loss: 0.0914 - accuracy: 0.9674 - val_loss: 0.1195 - val_accuracy: 0.9591\n",
      "Epoch 72/80\n",
      "756/756 [==============================] - 5s 7ms/step - loss: 0.0934 - accuracy: 0.9674 - val_loss: 0.1113 - val_accuracy: 0.9633\n",
      "Epoch 73/80\n",
      "756/756 [==============================] - 5s 6ms/step - loss: 0.0926 - accuracy: 0.9673 - val_loss: 0.1077 - val_accuracy: 0.9621\n",
      "Epoch 74/80\n",
      "756/756 [==============================] - 5s 6ms/step - loss: 0.0933 - accuracy: 0.9670 - val_loss: 0.1183 - val_accuracy: 0.9625\n",
      "Epoch 75/80\n",
      "756/756 [==============================] - 5s 6ms/step - loss: 0.0927 - accuracy: 0.9675 - val_loss: 0.1185 - val_accuracy: 0.9616\n",
      "Epoch 76/80\n",
      "756/756 [==============================] - 5s 7ms/step - loss: 0.0936 - accuracy: 0.9675 - val_loss: 0.1098 - val_accuracy: 0.9645\n",
      "Epoch 77/80\n",
      "756/756 [==============================] - 5s 6ms/step - loss: 0.0932 - accuracy: 0.9661 - val_loss: 0.1215 - val_accuracy: 0.9589\n",
      "Epoch 78/80\n",
      "756/756 [==============================] - 5s 7ms/step - loss: 0.0921 - accuracy: 0.9670 - val_loss: 0.1116 - val_accuracy: 0.9626\n",
      "Epoch 79/80\n",
      "756/756 [==============================] - 5s 6ms/step - loss: 0.0925 - accuracy: 0.9674 - val_loss: 0.1142 - val_accuracy: 0.9622\n",
      "Epoch 80/80\n",
      "756/756 [==============================] - 5s 7ms/step - loss: 0.0906 - accuracy: 0.9676 - val_loss: 0.1144 - val_accuracy: 0.9610\n",
      "315/315 [==============================] - 1s 3ms/step - loss: 0.1224 - accuracy: 0.9553\n",
      "Test accuracy: 0.9553261399269104\n"
     ]
    },
    {
     "ename": "KeyboardInterrupt",
     "evalue": "",
     "output_type": "error",
     "traceback": [
      "\u001b[1;31m---------------------------------------------------------------------------\u001b[0m",
      "\u001b[1;31mKeyboardInterrupt\u001b[0m                         Traceback (most recent call last)",
      "Cell \u001b[1;32mIn[56], line 77\u001b[0m\n\u001b[0;32m     74\u001b[0m y_train_cv, y_test_cv \u001b[38;5;241m=\u001b[39m y_train\u001b[38;5;241m.\u001b[39miloc[train_index], y_train\u001b[38;5;241m.\u001b[39miloc[test_index]  \u001b[38;5;66;03m# Corrected\u001b[39;00m\n\u001b[0;32m     76\u001b[0m \u001b[38;5;66;03m# Train the model on the training data\u001b[39;00m\n\u001b[1;32m---> 77\u001b[0m \u001b[43mneural_net\u001b[49m\u001b[38;5;241;43m.\u001b[39;49m\u001b[43mfit\u001b[49m\u001b[43m(\u001b[49m\u001b[43mX_train_cv\u001b[49m\u001b[43m,\u001b[49m\u001b[43m \u001b[49m\u001b[43my_train_cv\u001b[49m\u001b[43m,\u001b[49m\u001b[43m \u001b[49m\u001b[43mepochs\u001b[49m\u001b[38;5;241;43m=\u001b[39;49m\u001b[38;5;241;43m20\u001b[39;49m\u001b[43m,\u001b[49m\u001b[43m \u001b[49m\u001b[43mbatch_size\u001b[49m\u001b[38;5;241;43m=\u001b[39;49m\u001b[38;5;241;43m32\u001b[39;49m\u001b[43m,\u001b[49m\u001b[43m \u001b[49m\u001b[43mverbose\u001b[49m\u001b[38;5;241;43m=\u001b[39;49m\u001b[38;5;241;43m0\u001b[39;49m\u001b[43m)\u001b[49m\n\u001b[0;32m     79\u001b[0m \u001b[38;5;66;03m# Evaluate the model on the test data\u001b[39;00m\n\u001b[0;32m     80\u001b[0m _, accuracy \u001b[38;5;241m=\u001b[39m neural_net\u001b[38;5;241m.\u001b[39mevaluate(X_test_cv, y_test_cv, verbose\u001b[38;5;241m=\u001b[39m\u001b[38;5;241m0\u001b[39m)\n",
      "File \u001b[1;32m~\\AppData\\Local\\Programs\\Python\\Python311\\Lib\\site-packages\\keras\\src\\utils\\traceback_utils.py:65\u001b[0m, in \u001b[0;36mfilter_traceback.<locals>.error_handler\u001b[1;34m(*args, **kwargs)\u001b[0m\n\u001b[0;32m     63\u001b[0m filtered_tb \u001b[38;5;241m=\u001b[39m \u001b[38;5;28;01mNone\u001b[39;00m\n\u001b[0;32m     64\u001b[0m \u001b[38;5;28;01mtry\u001b[39;00m:\n\u001b[1;32m---> 65\u001b[0m     \u001b[38;5;28;01mreturn\u001b[39;00m \u001b[43mfn\u001b[49m\u001b[43m(\u001b[49m\u001b[38;5;241;43m*\u001b[39;49m\u001b[43margs\u001b[49m\u001b[43m,\u001b[49m\u001b[43m \u001b[49m\u001b[38;5;241;43m*\u001b[39;49m\u001b[38;5;241;43m*\u001b[39;49m\u001b[43mkwargs\u001b[49m\u001b[43m)\u001b[49m\n\u001b[0;32m     66\u001b[0m \u001b[38;5;28;01mexcept\u001b[39;00m \u001b[38;5;167;01mException\u001b[39;00m \u001b[38;5;28;01mas\u001b[39;00m e:\n\u001b[0;32m     67\u001b[0m     filtered_tb \u001b[38;5;241m=\u001b[39m _process_traceback_frames(e\u001b[38;5;241m.\u001b[39m__traceback__)\n",
      "File \u001b[1;32m~\\AppData\\Local\\Programs\\Python\\Python311\\Lib\\site-packages\\keras\\src\\engine\\training.py:1783\u001b[0m, in \u001b[0;36mModel.fit\u001b[1;34m(self, x, y, batch_size, epochs, verbose, callbacks, validation_split, validation_data, shuffle, class_weight, sample_weight, initial_epoch, steps_per_epoch, validation_steps, validation_batch_size, validation_freq, max_queue_size, workers, use_multiprocessing)\u001b[0m\n\u001b[0;32m   1775\u001b[0m \u001b[38;5;28;01mwith\u001b[39;00m tf\u001b[38;5;241m.\u001b[39mprofiler\u001b[38;5;241m.\u001b[39mexperimental\u001b[38;5;241m.\u001b[39mTrace(\n\u001b[0;32m   1776\u001b[0m     \u001b[38;5;124m\"\u001b[39m\u001b[38;5;124mtrain\u001b[39m\u001b[38;5;124m\"\u001b[39m,\n\u001b[0;32m   1777\u001b[0m     epoch_num\u001b[38;5;241m=\u001b[39mepoch,\n\u001b[1;32m   (...)\u001b[0m\n\u001b[0;32m   1780\u001b[0m     _r\u001b[38;5;241m=\u001b[39m\u001b[38;5;241m1\u001b[39m,\n\u001b[0;32m   1781\u001b[0m ):\n\u001b[0;32m   1782\u001b[0m     callbacks\u001b[38;5;241m.\u001b[39mon_train_batch_begin(step)\n\u001b[1;32m-> 1783\u001b[0m     tmp_logs \u001b[38;5;241m=\u001b[39m \u001b[38;5;28;43mself\u001b[39;49m\u001b[38;5;241;43m.\u001b[39;49m\u001b[43mtrain_function\u001b[49m\u001b[43m(\u001b[49m\u001b[43miterator\u001b[49m\u001b[43m)\u001b[49m\n\u001b[0;32m   1784\u001b[0m     \u001b[38;5;28;01mif\u001b[39;00m data_handler\u001b[38;5;241m.\u001b[39mshould_sync:\n\u001b[0;32m   1785\u001b[0m         context\u001b[38;5;241m.\u001b[39masync_wait()\n",
      "File \u001b[1;32m~\\AppData\\Local\\Programs\\Python\\Python311\\Lib\\site-packages\\tensorflow\\python\\util\\traceback_utils.py:150\u001b[0m, in \u001b[0;36mfilter_traceback.<locals>.error_handler\u001b[1;34m(*args, **kwargs)\u001b[0m\n\u001b[0;32m    148\u001b[0m filtered_tb \u001b[38;5;241m=\u001b[39m \u001b[38;5;28;01mNone\u001b[39;00m\n\u001b[0;32m    149\u001b[0m \u001b[38;5;28;01mtry\u001b[39;00m:\n\u001b[1;32m--> 150\u001b[0m   \u001b[38;5;28;01mreturn\u001b[39;00m \u001b[43mfn\u001b[49m\u001b[43m(\u001b[49m\u001b[38;5;241;43m*\u001b[39;49m\u001b[43margs\u001b[49m\u001b[43m,\u001b[49m\u001b[43m \u001b[49m\u001b[38;5;241;43m*\u001b[39;49m\u001b[38;5;241;43m*\u001b[39;49m\u001b[43mkwargs\u001b[49m\u001b[43m)\u001b[49m\n\u001b[0;32m    151\u001b[0m \u001b[38;5;28;01mexcept\u001b[39;00m \u001b[38;5;167;01mException\u001b[39;00m \u001b[38;5;28;01mas\u001b[39;00m e:\n\u001b[0;32m    152\u001b[0m   filtered_tb \u001b[38;5;241m=\u001b[39m _process_traceback_frames(e\u001b[38;5;241m.\u001b[39m__traceback__)\n",
      "File \u001b[1;32m~\\AppData\\Local\\Programs\\Python\\Python311\\Lib\\site-packages\\tensorflow\\python\\eager\\polymorphic_function\\polymorphic_function.py:831\u001b[0m, in \u001b[0;36mFunction.__call__\u001b[1;34m(self, *args, **kwds)\u001b[0m\n\u001b[0;32m    828\u001b[0m compiler \u001b[38;5;241m=\u001b[39m \u001b[38;5;124m\"\u001b[39m\u001b[38;5;124mxla\u001b[39m\u001b[38;5;124m\"\u001b[39m \u001b[38;5;28;01mif\u001b[39;00m \u001b[38;5;28mself\u001b[39m\u001b[38;5;241m.\u001b[39m_jit_compile \u001b[38;5;28;01melse\u001b[39;00m \u001b[38;5;124m\"\u001b[39m\u001b[38;5;124mnonXla\u001b[39m\u001b[38;5;124m\"\u001b[39m\n\u001b[0;32m    830\u001b[0m \u001b[38;5;28;01mwith\u001b[39;00m OptionalXlaContext(\u001b[38;5;28mself\u001b[39m\u001b[38;5;241m.\u001b[39m_jit_compile):\n\u001b[1;32m--> 831\u001b[0m   result \u001b[38;5;241m=\u001b[39m \u001b[38;5;28;43mself\u001b[39;49m\u001b[38;5;241;43m.\u001b[39;49m\u001b[43m_call\u001b[49m\u001b[43m(\u001b[49m\u001b[38;5;241;43m*\u001b[39;49m\u001b[43margs\u001b[49m\u001b[43m,\u001b[49m\u001b[43m \u001b[49m\u001b[38;5;241;43m*\u001b[39;49m\u001b[38;5;241;43m*\u001b[39;49m\u001b[43mkwds\u001b[49m\u001b[43m)\u001b[49m\n\u001b[0;32m    833\u001b[0m new_tracing_count \u001b[38;5;241m=\u001b[39m \u001b[38;5;28mself\u001b[39m\u001b[38;5;241m.\u001b[39mexperimental_get_tracing_count()\n\u001b[0;32m    834\u001b[0m without_tracing \u001b[38;5;241m=\u001b[39m (tracing_count \u001b[38;5;241m==\u001b[39m new_tracing_count)\n",
      "File \u001b[1;32m~\\AppData\\Local\\Programs\\Python\\Python311\\Lib\\site-packages\\tensorflow\\python\\eager\\polymorphic_function\\polymorphic_function.py:867\u001b[0m, in \u001b[0;36mFunction._call\u001b[1;34m(self, *args, **kwds)\u001b[0m\n\u001b[0;32m    864\u001b[0m   \u001b[38;5;28mself\u001b[39m\u001b[38;5;241m.\u001b[39m_lock\u001b[38;5;241m.\u001b[39mrelease()\n\u001b[0;32m    865\u001b[0m   \u001b[38;5;66;03m# In this case we have created variables on the first call, so we run the\u001b[39;00m\n\u001b[0;32m    866\u001b[0m   \u001b[38;5;66;03m# defunned version which is guaranteed to never create variables.\u001b[39;00m\n\u001b[1;32m--> 867\u001b[0m   \u001b[38;5;28;01mreturn\u001b[39;00m \u001b[43mtracing_compilation\u001b[49m\u001b[38;5;241;43m.\u001b[39;49m\u001b[43mcall_function\u001b[49m\u001b[43m(\u001b[49m\n\u001b[0;32m    868\u001b[0m \u001b[43m      \u001b[49m\u001b[43margs\u001b[49m\u001b[43m,\u001b[49m\u001b[43m \u001b[49m\u001b[43mkwds\u001b[49m\u001b[43m,\u001b[49m\u001b[43m \u001b[49m\u001b[38;5;28;43mself\u001b[39;49m\u001b[38;5;241;43m.\u001b[39;49m\u001b[43m_no_variable_creation_config\u001b[49m\n\u001b[0;32m    869\u001b[0m \u001b[43m  \u001b[49m\u001b[43m)\u001b[49m\n\u001b[0;32m    870\u001b[0m \u001b[38;5;28;01melif\u001b[39;00m \u001b[38;5;28mself\u001b[39m\u001b[38;5;241m.\u001b[39m_variable_creation_config \u001b[38;5;129;01mis\u001b[39;00m \u001b[38;5;129;01mnot\u001b[39;00m \u001b[38;5;28;01mNone\u001b[39;00m:\n\u001b[0;32m    871\u001b[0m   \u001b[38;5;66;03m# Release the lock early so that multiple threads can perform the call\u001b[39;00m\n\u001b[0;32m    872\u001b[0m   \u001b[38;5;66;03m# in parallel.\u001b[39;00m\n\u001b[0;32m    873\u001b[0m   \u001b[38;5;28mself\u001b[39m\u001b[38;5;241m.\u001b[39m_lock\u001b[38;5;241m.\u001b[39mrelease()\n",
      "File \u001b[1;32m~\\AppData\\Local\\Programs\\Python\\Python311\\Lib\\site-packages\\tensorflow\\python\\eager\\polymorphic_function\\tracing_compilation.py:139\u001b[0m, in \u001b[0;36mcall_function\u001b[1;34m(args, kwargs, tracing_options)\u001b[0m\n\u001b[0;32m    137\u001b[0m bound_args \u001b[38;5;241m=\u001b[39m function\u001b[38;5;241m.\u001b[39mfunction_type\u001b[38;5;241m.\u001b[39mbind(\u001b[38;5;241m*\u001b[39margs, \u001b[38;5;241m*\u001b[39m\u001b[38;5;241m*\u001b[39mkwargs)\n\u001b[0;32m    138\u001b[0m flat_inputs \u001b[38;5;241m=\u001b[39m function\u001b[38;5;241m.\u001b[39mfunction_type\u001b[38;5;241m.\u001b[39munpack_inputs(bound_args)\n\u001b[1;32m--> 139\u001b[0m \u001b[38;5;28;01mreturn\u001b[39;00m \u001b[43mfunction\u001b[49m\u001b[38;5;241;43m.\u001b[39;49m\u001b[43m_call_flat\u001b[49m\u001b[43m(\u001b[49m\u001b[43m  \u001b[49m\u001b[38;5;66;43;03m# pylint: disable=protected-access\u001b[39;49;00m\n\u001b[0;32m    140\u001b[0m \u001b[43m    \u001b[49m\u001b[43mflat_inputs\u001b[49m\u001b[43m,\u001b[49m\u001b[43m \u001b[49m\u001b[43mcaptured_inputs\u001b[49m\u001b[38;5;241;43m=\u001b[39;49m\u001b[43mfunction\u001b[49m\u001b[38;5;241;43m.\u001b[39;49m\u001b[43mcaptured_inputs\u001b[49m\n\u001b[0;32m    141\u001b[0m \u001b[43m\u001b[49m\u001b[43m)\u001b[49m\n",
      "File \u001b[1;32m~\\AppData\\Local\\Programs\\Python\\Python311\\Lib\\site-packages\\tensorflow\\python\\eager\\polymorphic_function\\concrete_function.py:1264\u001b[0m, in \u001b[0;36mConcreteFunction._call_flat\u001b[1;34m(self, tensor_inputs, captured_inputs)\u001b[0m\n\u001b[0;32m   1260\u001b[0m possible_gradient_type \u001b[38;5;241m=\u001b[39m gradients_util\u001b[38;5;241m.\u001b[39mPossibleTapeGradientTypes(args)\n\u001b[0;32m   1261\u001b[0m \u001b[38;5;28;01mif\u001b[39;00m (possible_gradient_type \u001b[38;5;241m==\u001b[39m gradients_util\u001b[38;5;241m.\u001b[39mPOSSIBLE_GRADIENT_TYPES_NONE\n\u001b[0;32m   1262\u001b[0m     \u001b[38;5;129;01mand\u001b[39;00m executing_eagerly):\n\u001b[0;32m   1263\u001b[0m   \u001b[38;5;66;03m# No tape is watching; skip to running the function.\u001b[39;00m\n\u001b[1;32m-> 1264\u001b[0m   \u001b[38;5;28;01mreturn\u001b[39;00m \u001b[38;5;28;43mself\u001b[39;49m\u001b[38;5;241;43m.\u001b[39;49m\u001b[43m_inference_function\u001b[49m\u001b[38;5;241;43m.\u001b[39;49m\u001b[43mflat_call\u001b[49m\u001b[43m(\u001b[49m\u001b[43margs\u001b[49m\u001b[43m)\u001b[49m\n\u001b[0;32m   1265\u001b[0m forward_backward \u001b[38;5;241m=\u001b[39m \u001b[38;5;28mself\u001b[39m\u001b[38;5;241m.\u001b[39m_select_forward_and_backward_functions(\n\u001b[0;32m   1266\u001b[0m     args,\n\u001b[0;32m   1267\u001b[0m     possible_gradient_type,\n\u001b[0;32m   1268\u001b[0m     executing_eagerly)\n\u001b[0;32m   1269\u001b[0m forward_function, args_with_tangents \u001b[38;5;241m=\u001b[39m forward_backward\u001b[38;5;241m.\u001b[39mforward()\n",
      "File \u001b[1;32m~\\AppData\\Local\\Programs\\Python\\Python311\\Lib\\site-packages\\tensorflow\\python\\eager\\polymorphic_function\\atomic_function.py:217\u001b[0m, in \u001b[0;36mAtomicFunction.flat_call\u001b[1;34m(self, args)\u001b[0m\n\u001b[0;32m    215\u001b[0m \u001b[38;5;28;01mdef\u001b[39;00m \u001b[38;5;21mflat_call\u001b[39m(\u001b[38;5;28mself\u001b[39m, args: Sequence[core\u001b[38;5;241m.\u001b[39mTensor]) \u001b[38;5;241m-\u001b[39m\u001b[38;5;241m>\u001b[39m Any:\n\u001b[0;32m    216\u001b[0m \u001b[38;5;250m  \u001b[39m\u001b[38;5;124;03m\"\"\"Calls with tensor inputs and returns the structured output.\"\"\"\u001b[39;00m\n\u001b[1;32m--> 217\u001b[0m   flat_outputs \u001b[38;5;241m=\u001b[39m \u001b[38;5;28;43mself\u001b[39;49m\u001b[43m(\u001b[49m\u001b[38;5;241;43m*\u001b[39;49m\u001b[43margs\u001b[49m\u001b[43m)\u001b[49m\n\u001b[0;32m    218\u001b[0m   \u001b[38;5;28;01mreturn\u001b[39;00m \u001b[38;5;28mself\u001b[39m\u001b[38;5;241m.\u001b[39mfunction_type\u001b[38;5;241m.\u001b[39mpack_output(flat_outputs)\n",
      "File \u001b[1;32m~\\AppData\\Local\\Programs\\Python\\Python311\\Lib\\site-packages\\tensorflow\\python\\eager\\polymorphic_function\\atomic_function.py:252\u001b[0m, in \u001b[0;36mAtomicFunction.__call__\u001b[1;34m(self, *args)\u001b[0m\n\u001b[0;32m    250\u001b[0m \u001b[38;5;28;01mwith\u001b[39;00m record\u001b[38;5;241m.\u001b[39mstop_recording():\n\u001b[0;32m    251\u001b[0m   \u001b[38;5;28;01mif\u001b[39;00m \u001b[38;5;28mself\u001b[39m\u001b[38;5;241m.\u001b[39m_bound_context\u001b[38;5;241m.\u001b[39mexecuting_eagerly():\n\u001b[1;32m--> 252\u001b[0m     outputs \u001b[38;5;241m=\u001b[39m \u001b[38;5;28;43mself\u001b[39;49m\u001b[38;5;241;43m.\u001b[39;49m\u001b[43m_bound_context\u001b[49m\u001b[38;5;241;43m.\u001b[39;49m\u001b[43mcall_function\u001b[49m\u001b[43m(\u001b[49m\n\u001b[0;32m    253\u001b[0m \u001b[43m        \u001b[49m\u001b[38;5;28;43mself\u001b[39;49m\u001b[38;5;241;43m.\u001b[39;49m\u001b[43mname\u001b[49m\u001b[43m,\u001b[49m\n\u001b[0;32m    254\u001b[0m \u001b[43m        \u001b[49m\u001b[38;5;28;43mlist\u001b[39;49m\u001b[43m(\u001b[49m\u001b[43margs\u001b[49m\u001b[43m)\u001b[49m\u001b[43m,\u001b[49m\n\u001b[0;32m    255\u001b[0m \u001b[43m        \u001b[49m\u001b[38;5;28;43mlen\u001b[39;49m\u001b[43m(\u001b[49m\u001b[38;5;28;43mself\u001b[39;49m\u001b[38;5;241;43m.\u001b[39;49m\u001b[43mfunction_type\u001b[49m\u001b[38;5;241;43m.\u001b[39;49m\u001b[43mflat_outputs\u001b[49m\u001b[43m)\u001b[49m\u001b[43m,\u001b[49m\n\u001b[0;32m    256\u001b[0m \u001b[43m    \u001b[49m\u001b[43m)\u001b[49m\n\u001b[0;32m    257\u001b[0m   \u001b[38;5;28;01melse\u001b[39;00m:\n\u001b[0;32m    258\u001b[0m     outputs \u001b[38;5;241m=\u001b[39m make_call_op_in_graph(\n\u001b[0;32m    259\u001b[0m         \u001b[38;5;28mself\u001b[39m,\n\u001b[0;32m    260\u001b[0m         \u001b[38;5;28mlist\u001b[39m(args),\n\u001b[0;32m    261\u001b[0m         \u001b[38;5;28mself\u001b[39m\u001b[38;5;241m.\u001b[39m_bound_context\u001b[38;5;241m.\u001b[39mfunction_call_options\u001b[38;5;241m.\u001b[39mas_attrs(),\n\u001b[0;32m    262\u001b[0m     )\n",
      "File \u001b[1;32m~\\AppData\\Local\\Programs\\Python\\Python311\\Lib\\site-packages\\tensorflow\\python\\eager\\context.py:1479\u001b[0m, in \u001b[0;36mContext.call_function\u001b[1;34m(self, name, tensor_inputs, num_outputs)\u001b[0m\n\u001b[0;32m   1477\u001b[0m cancellation_context \u001b[38;5;241m=\u001b[39m cancellation\u001b[38;5;241m.\u001b[39mcontext()\n\u001b[0;32m   1478\u001b[0m \u001b[38;5;28;01mif\u001b[39;00m cancellation_context \u001b[38;5;129;01mis\u001b[39;00m \u001b[38;5;28;01mNone\u001b[39;00m:\n\u001b[1;32m-> 1479\u001b[0m   outputs \u001b[38;5;241m=\u001b[39m \u001b[43mexecute\u001b[49m\u001b[38;5;241;43m.\u001b[39;49m\u001b[43mexecute\u001b[49m\u001b[43m(\u001b[49m\n\u001b[0;32m   1480\u001b[0m \u001b[43m      \u001b[49m\u001b[43mname\u001b[49m\u001b[38;5;241;43m.\u001b[39;49m\u001b[43mdecode\u001b[49m\u001b[43m(\u001b[49m\u001b[38;5;124;43m\"\u001b[39;49m\u001b[38;5;124;43mutf-8\u001b[39;49m\u001b[38;5;124;43m\"\u001b[39;49m\u001b[43m)\u001b[49m\u001b[43m,\u001b[49m\n\u001b[0;32m   1481\u001b[0m \u001b[43m      \u001b[49m\u001b[43mnum_outputs\u001b[49m\u001b[38;5;241;43m=\u001b[39;49m\u001b[43mnum_outputs\u001b[49m\u001b[43m,\u001b[49m\n\u001b[0;32m   1482\u001b[0m \u001b[43m      \u001b[49m\u001b[43minputs\u001b[49m\u001b[38;5;241;43m=\u001b[39;49m\u001b[43mtensor_inputs\u001b[49m\u001b[43m,\u001b[49m\n\u001b[0;32m   1483\u001b[0m \u001b[43m      \u001b[49m\u001b[43mattrs\u001b[49m\u001b[38;5;241;43m=\u001b[39;49m\u001b[43mattrs\u001b[49m\u001b[43m,\u001b[49m\n\u001b[0;32m   1484\u001b[0m \u001b[43m      \u001b[49m\u001b[43mctx\u001b[49m\u001b[38;5;241;43m=\u001b[39;49m\u001b[38;5;28;43mself\u001b[39;49m\u001b[43m,\u001b[49m\n\u001b[0;32m   1485\u001b[0m \u001b[43m  \u001b[49m\u001b[43m)\u001b[49m\n\u001b[0;32m   1486\u001b[0m \u001b[38;5;28;01melse\u001b[39;00m:\n\u001b[0;32m   1487\u001b[0m   outputs \u001b[38;5;241m=\u001b[39m execute\u001b[38;5;241m.\u001b[39mexecute_with_cancellation(\n\u001b[0;32m   1488\u001b[0m       name\u001b[38;5;241m.\u001b[39mdecode(\u001b[38;5;124m\"\u001b[39m\u001b[38;5;124mutf-8\u001b[39m\u001b[38;5;124m\"\u001b[39m),\n\u001b[0;32m   1489\u001b[0m       num_outputs\u001b[38;5;241m=\u001b[39mnum_outputs,\n\u001b[1;32m   (...)\u001b[0m\n\u001b[0;32m   1493\u001b[0m       cancellation_manager\u001b[38;5;241m=\u001b[39mcancellation_context,\n\u001b[0;32m   1494\u001b[0m   )\n",
      "File \u001b[1;32m~\\AppData\\Local\\Programs\\Python\\Python311\\Lib\\site-packages\\tensorflow\\python\\eager\\execute.py:60\u001b[0m, in \u001b[0;36mquick_execute\u001b[1;34m(op_name, num_outputs, inputs, attrs, ctx, name)\u001b[0m\n\u001b[0;32m     53\u001b[0m   \u001b[38;5;66;03m# Convert any objects of type core_types.Tensor to Tensor.\u001b[39;00m\n\u001b[0;32m     54\u001b[0m   inputs \u001b[38;5;241m=\u001b[39m [\n\u001b[0;32m     55\u001b[0m       tensor_conversion_registry\u001b[38;5;241m.\u001b[39mconvert(t)\n\u001b[0;32m     56\u001b[0m       \u001b[38;5;28;01mif\u001b[39;00m \u001b[38;5;28misinstance\u001b[39m(t, core_types\u001b[38;5;241m.\u001b[39mTensor)\n\u001b[0;32m     57\u001b[0m       \u001b[38;5;28;01melse\u001b[39;00m t\n\u001b[0;32m     58\u001b[0m       \u001b[38;5;28;01mfor\u001b[39;00m t \u001b[38;5;129;01min\u001b[39;00m inputs\n\u001b[0;32m     59\u001b[0m   ]\n\u001b[1;32m---> 60\u001b[0m   tensors \u001b[38;5;241m=\u001b[39m \u001b[43mpywrap_tfe\u001b[49m\u001b[38;5;241;43m.\u001b[39;49m\u001b[43mTFE_Py_Execute\u001b[49m\u001b[43m(\u001b[49m\u001b[43mctx\u001b[49m\u001b[38;5;241;43m.\u001b[39;49m\u001b[43m_handle\u001b[49m\u001b[43m,\u001b[49m\u001b[43m \u001b[49m\u001b[43mdevice_name\u001b[49m\u001b[43m,\u001b[49m\u001b[43m \u001b[49m\u001b[43mop_name\u001b[49m\u001b[43m,\u001b[49m\n\u001b[0;32m     61\u001b[0m \u001b[43m                                      \u001b[49m\u001b[43minputs\u001b[49m\u001b[43m,\u001b[49m\u001b[43m \u001b[49m\u001b[43mattrs\u001b[49m\u001b[43m,\u001b[49m\u001b[43m \u001b[49m\u001b[43mnum_outputs\u001b[49m\u001b[43m)\u001b[49m\n\u001b[0;32m     62\u001b[0m \u001b[38;5;28;01mexcept\u001b[39;00m core\u001b[38;5;241m.\u001b[39m_NotOkStatusException \u001b[38;5;28;01mas\u001b[39;00m e:\n\u001b[0;32m     63\u001b[0m   \u001b[38;5;28;01mif\u001b[39;00m name \u001b[38;5;129;01mis\u001b[39;00m \u001b[38;5;129;01mnot\u001b[39;00m \u001b[38;5;28;01mNone\u001b[39;00m:\n",
      "\u001b[1;31mKeyboardInterrupt\u001b[0m: "
     ]
    }
   ],
   "source": [
    "import pandas as pd\n",
    "import numpy as np\n",
    "from sklearn.model_selection import train_test_split, cross_val_score, StratifiedKFold\n",
    "from sklearn.decomposition import PCA\n",
    "from sklearn.preprocessing import LabelEncoder\n",
    "import tensorflow as tf\n",
    "from tensorflow import keras\n",
    "from tensorflow.keras import layers\n",
    "from tensorflow.keras import layers, models\n",
    "import joblib\n",
    "from imblearn.over_sampling import SMOTE\n",
    "from sklearn.preprocessing import normalize\n",
    "\n",
    "def custom_arctan(x):\n",
    "    return tf.math.atan(x)\n",
    "\n",
    "def gelu(x):\n",
    "    return 0.5 * x * (1 + tf.tanh(tf.sqrt(2 / np.pi) * (x + 0.044715 * tf.pow(x, 3))))\n",
    "\n",
    "\n",
    "plt.figure(figsize=(7, 7)) \n",
    "plt.scatter(X_resampled['B-V'], X_resampled['Absolute Mag'], s=10,c='black', marker=\"*\")\n",
    "\n",
    "plt.gca().invert_yaxis()\n",
    "\n",
    "plt.xlabel('B-V')\n",
    "plt.ylabel('Absolute magnitude')\n",
    "plt.title('SPD')\n",
    "\n",
    "plt.grid(True)\n",
    "plt.show()\n",
    "\n",
    "pca = PCA(n_components=5)  \n",
    "X_train_pca = pca.fit_transform(X_train)\n",
    "X_test_pca = pca.transform(X_test)\n",
    "X_train_pca = normalize(X_train_pca)\n",
    "X_test_pca = normalize(X_test_pca)\n",
    "neural_net = models.Sequential([\n",
    "    #layers.Input(shape=(X_train_pca.shape[1])),  # Input layer with reduced features\n",
    "    layers.Input(shape=(5,)),\n",
    "    # layers.Dense(128, activation=gelu),  # Hidden layer with 64 neurons and tanh activation\n",
    "    # layers.Dense(65, activation=gelu),  # Hidden layer with 32 neurons and tanh activation\n",
    "    # layers.Dense(33, activation=gelu),  # Hidden layer with 32 neurons and tanh activation\n",
    "    layers.Dense(512, activation='tanh'),\n",
    "    layers.Dense(256, activation='tanh'),\n",
    "    \n",
    "    layers.Dense(10, activation='softmax')  # Output layer with 7 neurons (for spectral classes) and softmax activation\n",
    "])\n",
    "\n",
    "opt = keras.optimizers.Adam(learning_rate=0.001)\n",
    "neural_net.compile(optimizer=opt, loss='sparse_categorical_crossentropy', metrics=['accuracy'])\n",
    "\n",
    "neural_net.fit(X_train_pca, y_train, epochs=80, batch_size=32, validation_split=0.4)\n",
    "\n",
    "test_loss, test_accuracy = neural_net.evaluate(X_test_pca, y_test)\n",
    "print(f\"Test accuracy: {test_accuracy}\")\n",
    "\n",
    "k = 3\n",
    "\n",
    "skf = StratifiedKFold(n_splits=k, shuffle=True, random_state=42)\n",
    "\n",
    "cv_scores = []\n",
    "for train_index, test_index in skf.split(X_train_pca, y_train):\n",
    "    X_train_cv, X_test_cv = X_train_pca[train_index], X_train_pca[test_index]\n",
    "    y_train_cv, y_test_cv = y_train.iloc[train_index], y_train.iloc[test_index]  # Corrected\n",
    "\n",
    "    neural_net.fit(X_train_cv, y_train_cv, epochs=20, batch_size=32, verbose=0)\n",
    "\n",
    "    _, accuracy = neural_net.evaluate(X_test_cv, y_test_cv, verbose=0)\n",
    "    cv_scores.append(accuracy)\n",
    "\n",
    "\n",
    "print(\"Cross-Validation Scores:\", cv_scores)\n",
    "print(\"Mean Accuracy:\", np.mean(cv_scores))\n",
    "print(\"Standard Deviation:\", np.std(cv_scores))\n",
    "\n",
    "skf = StratifiedKFold(n_splits=k, shuffle=True, random_state=42)\n",
    "\n",
    "cv_scores = []\n",
    "\n",
    "for train_index, test_index in skf.split(X_train_pca, y_train):\n",
    "    X_train_cv, X_test_cv = X_train_pca[train_index], X_train_pca[test_index]\n",
    "    y_train_cv, y_test_cv = y_train[train_index], y_train[test_index]\n",
    "\n",
    "    neural_net.fit(X_train_cv, y_train_cv, epochs=20, batch_size=64, verbose=0)\n",
    "\n",
    "    _, accuracy = neural_net.evaluate(X_test_cv, y_test_cv, verbose=0)\n",
    "    cv_scores.append(accuracy)\n",
    "\n",
    "print(\"Cross-Validation Scores:\", cv_scores)\n",
    "print(\"Mean Accuracy:\", np.mean(cv_scores))\n",
    "print(\"Standard Deviation:\", np.std(cv_scores))\n",
    "# tf.test.is_gpu_available()\n",
    "from sklearn.metrics import confusion_matrix\n",
    "\n",
    "y_pred = neural_net.predict(X_test_pca)\n",
    "# Convert the predicted probabilities to class labels\n",
    "y_pred_labels = np.argmax(y_pred, axis=1)\n",
    "\n",
    "conf_matrix = confusion_matrix(y_test, y_pred_labels)\n",
    "\n",
    "print(\"Confusion Matrix:\")\n",
    "print(conf_matrix)\n"
   ]
  },
  {
   "cell_type": "code",
   "execution_count": 64,
   "id": "d4de286f-96f7-4856-a826-b35a53e81dc5",
   "metadata": {
    "tags": []
   },
   "outputs": [
    {
     "data": {
      "text/plain": [
       "['./MassPredictionModels\\\\neural_net.h5']"
      ]
     },
     "execution_count": 64,
     "metadata": {},
     "output_type": "execute_result"
    }
   ],
   "source": [
    "output_folder = \"./MassPredictionModels\"\n",
    "model_path = os.path.join(output_folder, 'neural_net.h5')\n",
    "joblib.dump(neural_net, model_path)"
   ]
  },
  {
   "cell_type": "code",
   "execution_count": 71,
   "id": "febf0f9d-4fba-4e68-994b-b17b07c2f6ea",
   "metadata": {
    "tags": []
   },
   "outputs": [
    {
     "name": "stdout",
     "output_type": "stream",
     "text": [
      "INFO:tensorflow:Assets written to: C:\\Users\\keera\\AppData\\Local\\Temp\\tmp5bs8_c3k\\assets\n"
     ]
    },
    {
     "name": "stderr",
     "output_type": "stream",
     "text": [
      "INFO:tensorflow:Assets written to: C:\\Users\\keera\\AppData\\Local\\Temp\\tmp5bs8_c3k\\assets\n"
     ]
    },
    {
     "name": "stdout",
     "output_type": "stream",
     "text": [
      "1259/1259 [==============================] - 12s 9ms/step - loss: 0.1018 - accuracy: 0.1030\n"
     ]
    },
    {
     "name": "stderr",
     "output_type": "stream",
     "text": [
      "[Parallel(n_jobs=1)]: Done  49 tasks      | elapsed:   12.9s\n",
      "[Parallel(n_jobs=1)]: Done 199 tasks      | elapsed:   51.7s\n"
     ]
    },
    {
     "name": "stdout",
     "output_type": "stream",
     "text": [
      "      Iter       Train Loss   Remaining Time \n",
      "         1           1.8145            6.13m\n",
      "         2           1.5577            6.12m\n",
      "         3           1.3746            6.03m\n",
      "         4           1.2307            6.25m\n",
      "         5           1.1124            6.00m\n",
      "         6           1.0136            5.91m\n",
      "         7           0.9314            5.80m\n",
      "         8           0.8608            5.64m\n",
      "         9           0.7986            5.55m\n",
      "        10           0.7482            5.49m\n",
      "        20           0.4505            4.98m\n",
      "        30           0.3337            4.50m\n",
      "        40           0.2726            4.05m\n",
      "        50           0.2329            3.49m\n",
      "        60           0.2061            2.97m\n",
      "        70           0.1863            2.47m\n",
      "        80           0.1692            1.97m\n",
      "        90           0.1567            1.47m\n",
      "       100           0.1466           58.55s\n",
      "INFO:tensorflow:Assets written to: C:\\Users\\keera\\AppData\\Local\\Temp\\tmpmj6g379l\\assets\n"
     ]
    },
    {
     "name": "stderr",
     "output_type": "stream",
     "text": [
      "INFO:tensorflow:Assets written to: C:\\Users\\keera\\AppData\\Local\\Temp\\tmpmj6g379l\\assets\n"
     ]
    },
    {
     "name": "stdout",
     "output_type": "stream",
     "text": [
      "INFO:tensorflow:Assets written to: C:\\Users\\keera\\AppData\\Local\\Temp\\tmp0nd605p9\\assets\n"
     ]
    },
    {
     "name": "stderr",
     "output_type": "stream",
     "text": [
      "INFO:tensorflow:Assets written to: C:\\Users\\keera\\AppData\\Local\\Temp\\tmp0nd605p9\\assets\n"
     ]
    },
    {
     "name": "stdout",
     "output_type": "stream",
     "text": [
      "1008/1008 [==============================] - 9s 9ms/step - loss: 0.1030 - accuracy: 0.1039\n",
      "252/252 [==============================] - 1s 4ms/step\n",
      "INFO:tensorflow:Assets written to: C:\\Users\\keera\\AppData\\Local\\Temp\\tmpmj1cx0ft\\assets\n"
     ]
    },
    {
     "name": "stderr",
     "output_type": "stream",
     "text": [
      "INFO:tensorflow:Assets written to: C:\\Users\\keera\\AppData\\Local\\Temp\\tmpmj1cx0ft\\assets\n"
     ]
    },
    {
     "name": "stdout",
     "output_type": "stream",
     "text": [
      "1008/1008 [==============================] - 9s 8ms/step - loss: 0.1010 - accuracy: 0.1035\n",
      "252/252 [==============================] - 1s 3ms/step\n",
      "INFO:tensorflow:Assets written to: C:\\Users\\keera\\AppData\\Local\\Temp\\tmpcb4emqtv\\assets\n"
     ]
    },
    {
     "name": "stderr",
     "output_type": "stream",
     "text": [
      "INFO:tensorflow:Assets written to: C:\\Users\\keera\\AppData\\Local\\Temp\\tmpcb4emqtv\\assets\n"
     ]
    },
    {
     "name": "stdout",
     "output_type": "stream",
     "text": [
      "1008/1008 [==============================] - 10s 10ms/step - loss: 0.1026 - accuracy: 0.1034\n",
      "252/252 [==============================] - 1s 4ms/step\n",
      "WARNING:tensorflow:Detecting that an object or model or tf.train.Checkpoint is being deleted with unrestored values. See the following logs for the specific values in question. To silence these warnings, use `status.expect_partial()`. See https://www.tensorflow.org/api_docs/python/tf/train/Checkpoint#restorefor details about the status object returned by the restore function.\n"
     ]
    },
    {
     "name": "stderr",
     "output_type": "stream",
     "text": [
      "WARNING:tensorflow:Detecting that an object or model or tf.train.Checkpoint is being deleted with unrestored values. See the following logs for the specific values in question. To silence these warnings, use `status.expect_partial()`. See https://www.tensorflow.org/api_docs/python/tf/train/Checkpoint#restorefor details about the status object returned by the restore function.\n"
     ]
    },
    {
     "name": "stdout",
     "output_type": "stream",
     "text": [
      "WARNING:tensorflow:Value in checkpoint could not be found in the restored object: (root).keras_api.metrics.0.total\n"
     ]
    },
    {
     "name": "stderr",
     "output_type": "stream",
     "text": [
      "WARNING:tensorflow:Value in checkpoint could not be found in the restored object: (root).keras_api.metrics.0.total\n"
     ]
    },
    {
     "name": "stdout",
     "output_type": "stream",
     "text": [
      "WARNING:tensorflow:Value in checkpoint could not be found in the restored object: (root).keras_api.metrics.0.count\n"
     ]
    },
    {
     "name": "stderr",
     "output_type": "stream",
     "text": [
      "WARNING:tensorflow:Value in checkpoint could not be found in the restored object: (root).keras_api.metrics.0.count\n"
     ]
    },
    {
     "name": "stdout",
     "output_type": "stream",
     "text": [
      "WARNING:tensorflow:Value in checkpoint could not be found in the restored object: (root).keras_api.metrics.1.total\n"
     ]
    },
    {
     "name": "stderr",
     "output_type": "stream",
     "text": [
      "WARNING:tensorflow:Value in checkpoint could not be found in the restored object: (root).keras_api.metrics.1.total\n"
     ]
    },
    {
     "name": "stdout",
     "output_type": "stream",
     "text": [
      "WARNING:tensorflow:Value in checkpoint could not be found in the restored object: (root).keras_api.metrics.1.count\n"
     ]
    },
    {
     "name": "stderr",
     "output_type": "stream",
     "text": [
      "WARNING:tensorflow:Value in checkpoint could not be found in the restored object: (root).keras_api.metrics.1.count\n"
     ]
    },
    {
     "name": "stdout",
     "output_type": "stream",
     "text": [
      "WARNING:tensorflow:Detecting that an object or model or tf.train.Checkpoint is being deleted with unrestored values. See the following logs for the specific values in question. To silence these warnings, use `status.expect_partial()`. See https://www.tensorflow.org/api_docs/python/tf/train/Checkpoint#restorefor details about the status object returned by the restore function.\n"
     ]
    },
    {
     "name": "stderr",
     "output_type": "stream",
     "text": [
      "WARNING:tensorflow:Detecting that an object or model or tf.train.Checkpoint is being deleted with unrestored values. See the following logs for the specific values in question. To silence these warnings, use `status.expect_partial()`. See https://www.tensorflow.org/api_docs/python/tf/train/Checkpoint#restorefor details about the status object returned by the restore function.\n"
     ]
    },
    {
     "name": "stdout",
     "output_type": "stream",
     "text": [
      "WARNING:tensorflow:Value in checkpoint could not be found in the restored object: (root).keras_api.metrics.0.total\n"
     ]
    },
    {
     "name": "stderr",
     "output_type": "stream",
     "text": [
      "WARNING:tensorflow:Value in checkpoint could not be found in the restored object: (root).keras_api.metrics.0.total\n"
     ]
    },
    {
     "name": "stdout",
     "output_type": "stream",
     "text": [
      "WARNING:tensorflow:Value in checkpoint could not be found in the restored object: (root).keras_api.metrics.0.count\n"
     ]
    },
    {
     "name": "stderr",
     "output_type": "stream",
     "text": [
      "WARNING:tensorflow:Value in checkpoint could not be found in the restored object: (root).keras_api.metrics.0.count\n"
     ]
    },
    {
     "name": "stdout",
     "output_type": "stream",
     "text": [
      "WARNING:tensorflow:Value in checkpoint could not be found in the restored object: (root).keras_api.metrics.1.total\n"
     ]
    },
    {
     "name": "stderr",
     "output_type": "stream",
     "text": [
      "WARNING:tensorflow:Value in checkpoint could not be found in the restored object: (root).keras_api.metrics.1.total\n"
     ]
    },
    {
     "name": "stdout",
     "output_type": "stream",
     "text": [
      "WARNING:tensorflow:Value in checkpoint could not be found in the restored object: (root).keras_api.metrics.1.count\n"
     ]
    },
    {
     "name": "stderr",
     "output_type": "stream",
     "text": [
      "WARNING:tensorflow:Value in checkpoint could not be found in the restored object: (root).keras_api.metrics.1.count\n"
     ]
    },
    {
     "name": "stdout",
     "output_type": "stream",
     "text": [
      "WARNING:tensorflow:Detecting that an object or model or tf.train.Checkpoint is being deleted with unrestored values. See the following logs for the specific values in question. To silence these warnings, use `status.expect_partial()`. See https://www.tensorflow.org/api_docs/python/tf/train/Checkpoint#restorefor details about the status object returned by the restore function.\n"
     ]
    },
    {
     "name": "stderr",
     "output_type": "stream",
     "text": [
      "WARNING:tensorflow:Detecting that an object or model or tf.train.Checkpoint is being deleted with unrestored values. See the following logs for the specific values in question. To silence these warnings, use `status.expect_partial()`. See https://www.tensorflow.org/api_docs/python/tf/train/Checkpoint#restorefor details about the status object returned by the restore function.\n"
     ]
    },
    {
     "name": "stdout",
     "output_type": "stream",
     "text": [
      "WARNING:tensorflow:Value in checkpoint could not be found in the restored object: (root).keras_api.metrics.0.total\n"
     ]
    },
    {
     "name": "stderr",
     "output_type": "stream",
     "text": [
      "WARNING:tensorflow:Value in checkpoint could not be found in the restored object: (root).keras_api.metrics.0.total\n"
     ]
    },
    {
     "name": "stdout",
     "output_type": "stream",
     "text": [
      "WARNING:tensorflow:Value in checkpoint could not be found in the restored object: (root).keras_api.metrics.0.count\n"
     ]
    },
    {
     "name": "stderr",
     "output_type": "stream",
     "text": [
      "WARNING:tensorflow:Value in checkpoint could not be found in the restored object: (root).keras_api.metrics.0.count\n"
     ]
    },
    {
     "name": "stdout",
     "output_type": "stream",
     "text": [
      "WARNING:tensorflow:Value in checkpoint could not be found in the restored object: (root).keras_api.metrics.1.total\n"
     ]
    },
    {
     "name": "stderr",
     "output_type": "stream",
     "text": [
      "WARNING:tensorflow:Value in checkpoint could not be found in the restored object: (root).keras_api.metrics.1.total\n"
     ]
    },
    {
     "name": "stdout",
     "output_type": "stream",
     "text": [
      "WARNING:tensorflow:Value in checkpoint could not be found in the restored object: (root).keras_api.metrics.1.count\n"
     ]
    },
    {
     "name": "stderr",
     "output_type": "stream",
     "text": [
      "WARNING:tensorflow:Value in checkpoint could not be found in the restored object: (root).keras_api.metrics.1.count\n"
     ]
    },
    {
     "name": "stdout",
     "output_type": "stream",
     "text": [
      "WARNING:tensorflow:Detecting that an object or model or tf.train.Checkpoint is being deleted with unrestored values. See the following logs for the specific values in question. To silence these warnings, use `status.expect_partial()`. See https://www.tensorflow.org/api_docs/python/tf/train/Checkpoint#restorefor details about the status object returned by the restore function.\n"
     ]
    },
    {
     "name": "stderr",
     "output_type": "stream",
     "text": [
      "WARNING:tensorflow:Detecting that an object or model or tf.train.Checkpoint is being deleted with unrestored values. See the following logs for the specific values in question. To silence these warnings, use `status.expect_partial()`. See https://www.tensorflow.org/api_docs/python/tf/train/Checkpoint#restorefor details about the status object returned by the restore function.\n"
     ]
    },
    {
     "name": "stdout",
     "output_type": "stream",
     "text": [
      "WARNING:tensorflow:Value in checkpoint could not be found in the restored object: (root).keras_api.metrics.0.total\n"
     ]
    },
    {
     "name": "stderr",
     "output_type": "stream",
     "text": [
      "WARNING:tensorflow:Value in checkpoint could not be found in the restored object: (root).keras_api.metrics.0.total\n"
     ]
    },
    {
     "name": "stdout",
     "output_type": "stream",
     "text": [
      "WARNING:tensorflow:Value in checkpoint could not be found in the restored object: (root).keras_api.metrics.0.count\n"
     ]
    },
    {
     "name": "stderr",
     "output_type": "stream",
     "text": [
      "WARNING:tensorflow:Value in checkpoint could not be found in the restored object: (root).keras_api.metrics.0.count\n"
     ]
    },
    {
     "name": "stdout",
     "output_type": "stream",
     "text": [
      "WARNING:tensorflow:Value in checkpoint could not be found in the restored object: (root).keras_api.metrics.1.total\n"
     ]
    },
    {
     "name": "stderr",
     "output_type": "stream",
     "text": [
      "WARNING:tensorflow:Value in checkpoint could not be found in the restored object: (root).keras_api.metrics.1.total\n"
     ]
    },
    {
     "name": "stdout",
     "output_type": "stream",
     "text": [
      "WARNING:tensorflow:Value in checkpoint could not be found in the restored object: (root).keras_api.metrics.1.count\n"
     ]
    },
    {
     "name": "stderr",
     "output_type": "stream",
     "text": [
      "WARNING:tensorflow:Value in checkpoint could not be found in the restored object: (root).keras_api.metrics.1.count\n"
     ]
    },
    {
     "name": "stdout",
     "output_type": "stream",
     "text": [
      "WARNING:tensorflow:Detecting that an object or model or tf.train.Checkpoint is being deleted with unrestored values. See the following logs for the specific values in question. To silence these warnings, use `status.expect_partial()`. See https://www.tensorflow.org/api_docs/python/tf/train/Checkpoint#restorefor details about the status object returned by the restore function.\n"
     ]
    },
    {
     "name": "stderr",
     "output_type": "stream",
     "text": [
      "WARNING:tensorflow:Detecting that an object or model or tf.train.Checkpoint is being deleted with unrestored values. See the following logs for the specific values in question. To silence these warnings, use `status.expect_partial()`. See https://www.tensorflow.org/api_docs/python/tf/train/Checkpoint#restorefor details about the status object returned by the restore function.\n"
     ]
    },
    {
     "name": "stdout",
     "output_type": "stream",
     "text": [
      "WARNING:tensorflow:Value in checkpoint could not be found in the restored object: (root).keras_api.metrics.0.total\n"
     ]
    },
    {
     "name": "stderr",
     "output_type": "stream",
     "text": [
      "WARNING:tensorflow:Value in checkpoint could not be found in the restored object: (root).keras_api.metrics.0.total\n"
     ]
    },
    {
     "name": "stdout",
     "output_type": "stream",
     "text": [
      "WARNING:tensorflow:Value in checkpoint could not be found in the restored object: (root).keras_api.metrics.0.count\n"
     ]
    },
    {
     "name": "stderr",
     "output_type": "stream",
     "text": [
      "WARNING:tensorflow:Value in checkpoint could not be found in the restored object: (root).keras_api.metrics.0.count\n"
     ]
    },
    {
     "name": "stdout",
     "output_type": "stream",
     "text": [
      "WARNING:tensorflow:Value in checkpoint could not be found in the restored object: (root).keras_api.metrics.1.total\n"
     ]
    },
    {
     "name": "stderr",
     "output_type": "stream",
     "text": [
      "WARNING:tensorflow:Value in checkpoint could not be found in the restored object: (root).keras_api.metrics.1.total\n"
     ]
    },
    {
     "name": "stdout",
     "output_type": "stream",
     "text": [
      "WARNING:tensorflow:Value in checkpoint could not be found in the restored object: (root).keras_api.metrics.1.count\n"
     ]
    },
    {
     "name": "stderr",
     "output_type": "stream",
     "text": [
      "WARNING:tensorflow:Value in checkpoint could not be found in the restored object: (root).keras_api.metrics.1.count\n"
     ]
    },
    {
     "name": "stdout",
     "output_type": "stream",
     "text": [
      "WARNING:tensorflow:Detecting that an object or model or tf.train.Checkpoint is being deleted with unrestored values. See the following logs for the specific values in question. To silence these warnings, use `status.expect_partial()`. See https://www.tensorflow.org/api_docs/python/tf/train/Checkpoint#restorefor details about the status object returned by the restore function.\n"
     ]
    },
    {
     "name": "stderr",
     "output_type": "stream",
     "text": [
      "WARNING:tensorflow:Detecting that an object or model or tf.train.Checkpoint is being deleted with unrestored values. See the following logs for the specific values in question. To silence these warnings, use `status.expect_partial()`. See https://www.tensorflow.org/api_docs/python/tf/train/Checkpoint#restorefor details about the status object returned by the restore function.\n"
     ]
    },
    {
     "name": "stdout",
     "output_type": "stream",
     "text": [
      "WARNING:tensorflow:Value in checkpoint could not be found in the restored object: (root).keras_api.metrics.0.total\n"
     ]
    },
    {
     "name": "stderr",
     "output_type": "stream",
     "text": [
      "WARNING:tensorflow:Value in checkpoint could not be found in the restored object: (root).keras_api.metrics.0.total\n"
     ]
    },
    {
     "name": "stdout",
     "output_type": "stream",
     "text": [
      "WARNING:tensorflow:Value in checkpoint could not be found in the restored object: (root).keras_api.metrics.0.count\n"
     ]
    },
    {
     "name": "stderr",
     "output_type": "stream",
     "text": [
      "WARNING:tensorflow:Value in checkpoint could not be found in the restored object: (root).keras_api.metrics.0.count\n"
     ]
    },
    {
     "name": "stdout",
     "output_type": "stream",
     "text": [
      "WARNING:tensorflow:Value in checkpoint could not be found in the restored object: (root).keras_api.metrics.1.total\n"
     ]
    },
    {
     "name": "stderr",
     "output_type": "stream",
     "text": [
      "WARNING:tensorflow:Value in checkpoint could not be found in the restored object: (root).keras_api.metrics.1.total\n"
     ]
    },
    {
     "name": "stdout",
     "output_type": "stream",
     "text": [
      "WARNING:tensorflow:Value in checkpoint could not be found in the restored object: (root).keras_api.metrics.1.count\n"
     ]
    },
    {
     "name": "stderr",
     "output_type": "stream",
     "text": [
      "WARNING:tensorflow:Value in checkpoint could not be found in the restored object: (root).keras_api.metrics.1.count\n"
     ]
    },
    {
     "name": "stdout",
     "output_type": "stream",
     "text": [
      "WARNING:tensorflow:Detecting that an object or model or tf.train.Checkpoint is being deleted with unrestored values. See the following logs for the specific values in question. To silence these warnings, use `status.expect_partial()`. See https://www.tensorflow.org/api_docs/python/tf/train/Checkpoint#restorefor details about the status object returned by the restore function.\n"
     ]
    },
    {
     "name": "stderr",
     "output_type": "stream",
     "text": [
      "WARNING:tensorflow:Detecting that an object or model or tf.train.Checkpoint is being deleted with unrestored values. See the following logs for the specific values in question. To silence these warnings, use `status.expect_partial()`. See https://www.tensorflow.org/api_docs/python/tf/train/Checkpoint#restorefor details about the status object returned by the restore function.\n"
     ]
    },
    {
     "name": "stdout",
     "output_type": "stream",
     "text": [
      "WARNING:tensorflow:Value in checkpoint could not be found in the restored object: (root).keras_api.metrics.0.total\n"
     ]
    },
    {
     "name": "stderr",
     "output_type": "stream",
     "text": [
      "WARNING:tensorflow:Value in checkpoint could not be found in the restored object: (root).keras_api.metrics.0.total\n"
     ]
    },
    {
     "name": "stdout",
     "output_type": "stream",
     "text": [
      "WARNING:tensorflow:Value in checkpoint could not be found in the restored object: (root).keras_api.metrics.0.count\n"
     ]
    },
    {
     "name": "stderr",
     "output_type": "stream",
     "text": [
      "WARNING:tensorflow:Value in checkpoint could not be found in the restored object: (root).keras_api.metrics.0.count\n"
     ]
    },
    {
     "name": "stdout",
     "output_type": "stream",
     "text": [
      "WARNING:tensorflow:Value in checkpoint could not be found in the restored object: (root).keras_api.metrics.1.total\n"
     ]
    },
    {
     "name": "stderr",
     "output_type": "stream",
     "text": [
      "WARNING:tensorflow:Value in checkpoint could not be found in the restored object: (root).keras_api.metrics.1.total\n"
     ]
    },
    {
     "name": "stdout",
     "output_type": "stream",
     "text": [
      "WARNING:tensorflow:Value in checkpoint could not be found in the restored object: (root).keras_api.metrics.1.count\n"
     ]
    },
    {
     "name": "stderr",
     "output_type": "stream",
     "text": [
      "WARNING:tensorflow:Value in checkpoint could not be found in the restored object: (root).keras_api.metrics.1.count\n"
     ]
    },
    {
     "name": "stdout",
     "output_type": "stream",
     "text": [
      "WARNING:tensorflow:Detecting that an object or model or tf.train.Checkpoint is being deleted with unrestored values. See the following logs for the specific values in question. To silence these warnings, use `status.expect_partial()`. See https://www.tensorflow.org/api_docs/python/tf/train/Checkpoint#restorefor details about the status object returned by the restore function.\n"
     ]
    },
    {
     "name": "stderr",
     "output_type": "stream",
     "text": [
      "WARNING:tensorflow:Detecting that an object or model or tf.train.Checkpoint is being deleted with unrestored values. See the following logs for the specific values in question. To silence these warnings, use `status.expect_partial()`. See https://www.tensorflow.org/api_docs/python/tf/train/Checkpoint#restorefor details about the status object returned by the restore function.\n"
     ]
    },
    {
     "name": "stdout",
     "output_type": "stream",
     "text": [
      "WARNING:tensorflow:Value in checkpoint could not be found in the restored object: (root).keras_api.metrics.0.total\n"
     ]
    },
    {
     "name": "stderr",
     "output_type": "stream",
     "text": [
      "WARNING:tensorflow:Value in checkpoint could not be found in the restored object: (root).keras_api.metrics.0.total\n"
     ]
    },
    {
     "name": "stdout",
     "output_type": "stream",
     "text": [
      "WARNING:tensorflow:Value in checkpoint could not be found in the restored object: (root).keras_api.metrics.0.count\n"
     ]
    },
    {
     "name": "stderr",
     "output_type": "stream",
     "text": [
      "WARNING:tensorflow:Value in checkpoint could not be found in the restored object: (root).keras_api.metrics.0.count\n"
     ]
    },
    {
     "name": "stdout",
     "output_type": "stream",
     "text": [
      "WARNING:tensorflow:Value in checkpoint could not be found in the restored object: (root).keras_api.metrics.1.total\n"
     ]
    },
    {
     "name": "stderr",
     "output_type": "stream",
     "text": [
      "WARNING:tensorflow:Value in checkpoint could not be found in the restored object: (root).keras_api.metrics.1.total\n"
     ]
    },
    {
     "name": "stdout",
     "output_type": "stream",
     "text": [
      "WARNING:tensorflow:Value in checkpoint could not be found in the restored object: (root).keras_api.metrics.1.count\n"
     ]
    },
    {
     "name": "stderr",
     "output_type": "stream",
     "text": [
      "WARNING:tensorflow:Value in checkpoint could not be found in the restored object: (root).keras_api.metrics.1.count\n"
     ]
    },
    {
     "name": "stdout",
     "output_type": "stream",
     "text": [
      "WARNING:tensorflow:Detecting that an object or model or tf.train.Checkpoint is being deleted with unrestored values. See the following logs for the specific values in question. To silence these warnings, use `status.expect_partial()`. See https://www.tensorflow.org/api_docs/python/tf/train/Checkpoint#restorefor details about the status object returned by the restore function.\n"
     ]
    },
    {
     "name": "stderr",
     "output_type": "stream",
     "text": [
      "WARNING:tensorflow:Detecting that an object or model or tf.train.Checkpoint is being deleted with unrestored values. See the following logs for the specific values in question. To silence these warnings, use `status.expect_partial()`. See https://www.tensorflow.org/api_docs/python/tf/train/Checkpoint#restorefor details about the status object returned by the restore function.\n"
     ]
    },
    {
     "name": "stdout",
     "output_type": "stream",
     "text": [
      "WARNING:tensorflow:Value in checkpoint could not be found in the restored object: (root).keras_api.metrics.0.total\n"
     ]
    },
    {
     "name": "stderr",
     "output_type": "stream",
     "text": [
      "WARNING:tensorflow:Value in checkpoint could not be found in the restored object: (root).keras_api.metrics.0.total\n"
     ]
    },
    {
     "name": "stdout",
     "output_type": "stream",
     "text": [
      "WARNING:tensorflow:Value in checkpoint could not be found in the restored object: (root).keras_api.metrics.0.count\n"
     ]
    },
    {
     "name": "stderr",
     "output_type": "stream",
     "text": [
      "WARNING:tensorflow:Value in checkpoint could not be found in the restored object: (root).keras_api.metrics.0.count\n"
     ]
    },
    {
     "name": "stdout",
     "output_type": "stream",
     "text": [
      "WARNING:tensorflow:Value in checkpoint could not be found in the restored object: (root).keras_api.metrics.1.total\n"
     ]
    },
    {
     "name": "stderr",
     "output_type": "stream",
     "text": [
      "WARNING:tensorflow:Value in checkpoint could not be found in the restored object: (root).keras_api.metrics.1.total\n"
     ]
    },
    {
     "name": "stdout",
     "output_type": "stream",
     "text": [
      "WARNING:tensorflow:Value in checkpoint could not be found in the restored object: (root).keras_api.metrics.1.count\n"
     ]
    },
    {
     "name": "stderr",
     "output_type": "stream",
     "text": [
      "WARNING:tensorflow:Value in checkpoint could not be found in the restored object: (root).keras_api.metrics.1.count\n"
     ]
    },
    {
     "name": "stdout",
     "output_type": "stream",
     "text": [
      "INFO:tensorflow:Assets written to: C:\\Users\\keera\\AppData\\Local\\Temp\\tmpjfpwl96p\\assets\n"
     ]
    },
    {
     "name": "stderr",
     "output_type": "stream",
     "text": [
      "INFO:tensorflow:Assets written to: C:\\Users\\keera\\AppData\\Local\\Temp\\tmpjfpwl96p\\assets\n"
     ]
    },
    {
     "name": "stdout",
     "output_type": "stream",
     "text": [
      "1008/1008 [==============================] - 9s 8ms/step - loss: 0.0969 - accuracy: 0.1033\n",
      "252/252 [==============================] - 1s 3ms/step\n",
      "INFO:tensorflow:Assets written to: C:\\Users\\keera\\AppData\\Local\\Temp\\tmpg37h2tsl\\assets\n"
     ]
    },
    {
     "name": "stderr",
     "output_type": "stream",
     "text": [
      "INFO:tensorflow:Assets written to: C:\\Users\\keera\\AppData\\Local\\Temp\\tmpg37h2tsl\\assets\n"
     ]
    },
    {
     "name": "stdout",
     "output_type": "stream",
     "text": [
      "1008/1008 [==============================] - 8s 8ms/step - loss: 0.0990 - accuracy: 0.1030\n",
      "252/252 [==============================] - 1s 3ms/step\n"
     ]
    },
    {
     "name": "stderr",
     "output_type": "stream",
     "text": [
      "[Parallel(n_jobs=1)]: Done  49 tasks      | elapsed:   10.4s\n",
      "[Parallel(n_jobs=1)]: Done 199 tasks      | elapsed:   41.4s\n",
      "[Parallel(n_jobs=1)]: Done  49 tasks      | elapsed:    0.0s\n",
      "[Parallel(n_jobs=1)]: Done 199 tasks      | elapsed:    0.4s\n",
      "[Parallel(n_jobs=1)]: Done  49 tasks      | elapsed:   11.1s\n",
      "[Parallel(n_jobs=1)]: Done 199 tasks      | elapsed:   41.6s\n",
      "[Parallel(n_jobs=1)]: Done  49 tasks      | elapsed:    0.0s\n",
      "[Parallel(n_jobs=1)]: Done 199 tasks      | elapsed:    0.4s\n",
      "[Parallel(n_jobs=1)]: Done  49 tasks      | elapsed:   10.4s\n",
      "[Parallel(n_jobs=1)]: Done 199 tasks      | elapsed:   43.6s\n",
      "[Parallel(n_jobs=1)]: Done  49 tasks      | elapsed:    0.0s\n",
      "[Parallel(n_jobs=1)]: Done 199 tasks      | elapsed:    0.3s\n",
      "[Parallel(n_jobs=1)]: Done  49 tasks      | elapsed:    9.6s\n",
      "[Parallel(n_jobs=1)]: Done 199 tasks      | elapsed:   43.9s\n",
      "[Parallel(n_jobs=1)]: Done  49 tasks      | elapsed:    0.1s\n",
      "[Parallel(n_jobs=1)]: Done 199 tasks      | elapsed:    0.5s\n",
      "[Parallel(n_jobs=1)]: Done  49 tasks      | elapsed:    9.9s\n",
      "[Parallel(n_jobs=1)]: Done 199 tasks      | elapsed:   40.5s\n",
      "[Parallel(n_jobs=1)]: Done  49 tasks      | elapsed:    0.0s\n",
      "[Parallel(n_jobs=1)]: Done 199 tasks      | elapsed:    0.3s\n"
     ]
    },
    {
     "name": "stdout",
     "output_type": "stream",
     "text": [
      "      Iter       Train Loss   Remaining Time \n",
      "         1           1.8205            4.36m\n",
      "         2           1.5671            4.17m\n",
      "         3           1.3784            4.07m\n",
      "         4           1.2334            4.01m\n",
      "         5           1.1116            4.09m\n",
      "         6           1.0139            4.11m\n",
      "         7           0.9297            4.07m\n",
      "         8           0.8603            4.06m\n",
      "         9           0.7960            4.02m\n",
      "        10           0.7455            4.01m\n",
      "        20           0.4478            3.65m\n",
      "        30           0.3349            3.30m\n",
      "        40           0.2706            3.02m\n",
      "        50           0.2299            2.65m\n",
      "        60           0.2030            2.30m\n",
      "        70           0.1823            1.92m\n",
      "        80           0.1668            1.55m\n",
      "        90           0.1553            1.16m\n",
      "       100           0.1454           46.33s\n",
      "      Iter       Train Loss   Remaining Time \n",
      "         1           1.8185            4.34m\n",
      "         2           1.5600            4.37m\n",
      "         3           1.3774            4.36m\n",
      "         4           1.2248            4.36m\n",
      "         5           1.1071            4.24m\n",
      "         6           1.0100            4.22m\n",
      "         7           0.9247            4.18m\n",
      "         8           0.8563            4.13m\n",
      "         9           0.7960            4.10m\n",
      "        10           0.7466            4.13m\n",
      "        20           0.4461            3.75m\n",
      "        30           0.3308            3.33m\n",
      "        40           0.2718            3.00m\n",
      "        50           0.2310            2.65m\n",
      "        60           0.2031            2.28m\n",
      "        70           0.1820            1.92m\n",
      "        80           0.1664            1.53m\n",
      "        90           0.1544            1.15m\n",
      "       100           0.1445           46.33s\n",
      "      Iter       Train Loss   Remaining Time \n",
      "         1           1.8140            5.69m\n",
      "         2           1.5568            5.36m\n",
      "         3           1.3739            5.53m\n",
      "         4           1.2230            5.18m\n",
      "         5           1.1072            4.92m\n",
      "         6           1.0081            4.78m\n",
      "         7           0.9271            4.72m\n",
      "         8           0.8578            4.73m\n",
      "         9           0.7980            4.81m\n",
      "        10           0.7463            4.87m\n",
      "        20           0.4485            4.11m\n",
      "        30           0.3324            3.63m\n",
      "        40           0.2681            3.18m\n",
      "        50           0.2286            2.75m\n",
      "        60           0.2020            2.35m\n",
      "        70           0.1830            1.96m\n",
      "        80           0.1675            1.56m\n",
      "        90           0.1553            1.17m\n",
      "       100           0.1452           46.82s\n",
      "      Iter       Train Loss   Remaining Time \n",
      "         1           1.8180            6.25m\n",
      "         2           1.5644            6.13m\n",
      "         3           1.3698            5.85m\n",
      "         4           1.2210            5.30m\n",
      "         5           1.1079            5.00m\n",
      "         6           1.0107            4.85m\n",
      "         7           0.9277            4.76m\n",
      "         8           0.8565            4.68m\n",
      "         9           0.7968            4.58m\n",
      "        10           0.7452            4.51m\n",
      "        20           0.4526            4.27m\n",
      "        30           0.3343            3.70m\n",
      "        40           0.2694            3.26m\n",
      "        50           0.2297            2.86m\n",
      "        60           0.2025            2.49m\n",
      "        70           0.1828            2.05m\n",
      "        80           0.1676            1.62m\n",
      "        90           0.1545            1.21m\n",
      "       100           0.1446           48.47s\n",
      "      Iter       Train Loss   Remaining Time \n",
      "         1           1.8134            4.24m\n",
      "         2           1.5571            4.32m\n",
      "         3           1.3714            4.61m\n",
      "         4           1.2214            4.49m\n",
      "         5           1.1066            4.47m\n",
      "         6           1.0079            4.41m\n",
      "         7           0.9238            4.34m\n",
      "         8           0.8535            4.33m\n",
      "         9           0.7939            4.26m\n",
      "        10           0.7426            4.20m\n",
      "        20           0.4487            4.21m\n",
      "        30           0.3341            3.99m\n",
      "        40           0.2700            3.71m\n",
      "        50           0.2307            3.41m\n",
      "        60           0.2049            3.01m\n",
      "        70           0.1843            2.46m\n",
      "        80           0.1687            1.91m\n",
      "        90           0.1552            1.40m\n",
      "       100           0.1451           54.83s\n",
      "315/315 [==============================] - 1s 4ms/step\n"
     ]
    },
    {
     "name": "stderr",
     "output_type": "stream",
     "text": [
      "[Parallel(n_jobs=1)]: Done  49 tasks      | elapsed:    0.2s\n",
      "[Parallel(n_jobs=1)]: Done 199 tasks      | elapsed:    0.9s\n"
     ]
    },
    {
     "name": "stdout",
     "output_type": "stream",
     "text": [
      "Stacking Ensemble Accuracy: 0.9726992951454383\n"
     ]
    }
   ],
   "source": [
    "from scikeras.wrappers import KerasClassifier\n",
    "from sklearn.ensemble import StackingClassifier\n",
    "from sklearn.ensemble import RandomForestClassifier\n",
    "from sklearn.metrics import accuracy_score\n",
    "\n",
    "nn_model = joblib.load(\"./MassPredictionModels/neural_net.pkl\")\n",
    "random_forest = joblib.load(\"./MassPredictionModels/Random Forest.pkl\")\n",
    "gradient_boosting = joblib.load(\"./MassPredictionModels/Gradient Boosting.pkl\")\n",
    "\n",
    "nn_model.compile(optimizer='adam', loss='sparse_categorical_crossentropy', metrics=['accuracy'])\n",
    "\n",
    "keras_classifier = KerasClassifier(nn_model)\n",
    "\n",
    "base_models = [\n",
    "    ('NeuralNetwork', keras_classifier),\n",
    "    ('RandomForest', random_forest),\n",
    "    ('GradientBoosting', gradient_boosting)\n",
    "]\n",
    "\n",
    "meta_model = RandomForestClassifier(n_estimators=100, random_state=42)\n",
    "\n",
    "stacking_ensemble = StackingClassifier(estimators=base_models, final_estimator=meta_model)\n",
    "\n",
    "stacking_ensemble.fit(X_train_pca, y_train)\n",
    "\n",
    "stacking_predictions = stacking_ensemble.predict(X_test_pca)\n",
    "\n",
    "stacking_accuracy = accuracy_score(y_test, stacking_predictions)\n",
    "print(f\"Stacking Ensemble Accuracy: {stacking_accuracy}\")\n"
   ]
  },
  {
   "cell_type": "code",
   "execution_count": 73,
   "id": "bac2a3b8-393d-4eff-9ccb-d334eca0a1b4",
   "metadata": {
    "tags": []
   },
   "outputs": [
    {
     "name": "stdout",
     "output_type": "stream",
     "text": [
      "INFO:tensorflow:Assets written to: C:\\Users\\keera\\AppData\\Local\\Temp\\tmpfn102enj\\assets\n"
     ]
    },
    {
     "name": "stderr",
     "output_type": "stream",
     "text": [
      "INFO:tensorflow:Assets written to: C:\\Users\\keera\\AppData\\Local\\Temp\\tmpfn102enj\\assets\n"
     ]
    },
    {
     "name": "stdout",
     "output_type": "stream",
     "text": [
      "INFO:tensorflow:Assets written to: C:\\Users\\keera\\AppData\\Local\\Temp\\tmplm0azgad\\assets\n"
     ]
    },
    {
     "name": "stderr",
     "output_type": "stream",
     "text": [
      "INFO:tensorflow:Assets written to: C:\\Users\\keera\\AppData\\Local\\Temp\\tmplm0azgad\\assets\n"
     ]
    },
    {
     "data": {
      "text/plain": [
       "['./MassPredictionModels/stacking_ensemble_model.pkl']"
      ]
     },
     "execution_count": 73,
     "metadata": {},
     "output_type": "execute_result"
    }
   ],
   "source": [
    "import joblib\n",
    "joblib.dump(stacking_ensemble, './MassPredictionModels/stacking_ensemble_model.pkl')\n"
   ]
  },
  {
   "cell_type": "code",
   "execution_count": 73,
   "id": "5de228e8-0392-45e8-8a0a-75bdf5854164",
   "metadata": {
    "tags": []
   },
   "outputs": [
    {
     "name": "stdout",
     "output_type": "stream",
     "text": [
      "4.0\n"
     ]
    }
   ],
   "source": [
    "import joblib\n",
    "gradient_boosting = joblib.load(\"./MassPredictionModels/Random Forest.pkl\")\n",
    "import pandas as pd\n",
    "import numpy as np\n",
    "\n",
    "bv = -1\n",
    "plx = 0.27\n",
    "vmag = 8.9\n",
    "spType = 'O'\n",
    "\n",
    "# Calculate Absolute Magnitude\n",
    "absolute_mag = (vmag + 5 * (np.log10(plx/100)))\n",
    "\n",
    "# Calculate Temperature\n",
    "bv = float(bv)\n",
    "# temperature = 4600 * (1 / (0.92 * bv + 1.7) + 1 / (0.92 * bv + 0.62))\n",
    "def estimate_temperature(BV):\n",
    "    if BV < -0.5:\n",
    "        temperature = 10000  # Hot stars, e.g., O-type\n",
    "    elif -0.5 <= BV < 0.2:\n",
    "        temperature = 10000 - 5000 * (BV + 0.5)  # Linear decrease from 10,000 K to 5,000 K\n",
    "    elif 0.2 <= BV < 1.5:\n",
    "        temperature = 5000 - 4000 * (BV - 0.2)  # Linear decrease from 5,000 K to 1,000 K\n",
    "    else:\n",
    "        temperature = 500  # Cool stars, e.g., M-type\n",
    "\n",
    "    return temperature\n",
    "temperature = estimate_temperature(bv)\n",
    "temperature = np.log10(temperature)\n",
    "print(temperature)\n",
    "\n",
    "# Load spectral type mapping\n",
    "spectral_type_mapping = {\n",
    "    \"O\": 0,\n",
    "    \"B\": 1,\n",
    "    \"A\": 2,\n",
    "    \"F\": 3,\n",
    "    \"G\": 4,\n",
    "    \"K\": 5,\n",
    "    \"M\": 6\n",
    "}\n",
    "\n",
    "# Map the user input spectral type to a numerical value\n",
    "predicted_spType = spectral_type_mapping.get(spType, -1)\n",
    "\n",
    "input_data = pd.DataFrame({\n",
    "    'B-V': [bv],\n",
    "    'Absolute Mag': [absolute_mag],\n",
    "    'Vmag': [vmag],\n",
    "    'PSpT': [predicted_spType],\n",
    "    'log.Teff [K]': [temperature],\n",
    "})\n"
   ]
  },
  {
   "cell_type": "code",
   "execution_count": 74,
   "id": "b0c17c2c-e5bf-4ced-9e34-cac48122df6f",
   "metadata": {},
   "outputs": [],
   "source": [
    "# BV = -2\n",
    "# BC = -4100 * BV**3 + 2300 * BV**2 + 6500 * BV + 2200\n",
    "# T_eff =  (BV + BC)\n",
    "# print(T_eff)"
   ]
  },
  {
   "cell_type": "code",
   "execution_count": 75,
   "id": "33ea925b-27cd-4734-b4c3-424e4d303d9d",
   "metadata": {
    "tags": []
   },
   "outputs": [
    {
     "name": "stdout",
     "output_type": "stream",
     "text": [
      "Predicted Mass Range: 8\n",
      "Absolute Mag: -3.9431811792050624\n",
      "Temp: 4.0\n"
     ]
    },
    {
     "name": "stderr",
     "output_type": "stream",
     "text": [
      "[Parallel(n_jobs=1)]: Done  49 tasks      | elapsed:    0.0s\n",
      "[Parallel(n_jobs=1)]: Done 199 tasks      | elapsed:    0.0s\n"
     ]
    }
   ],
   "source": [
    "mass_prediction = gradient_boosting.predict(input_data)\n",
    "print(\"Predicted Mass Range:\", mass_prediction[0])\n",
    "print(\"Absolute Mag:\", absolute_mag)\n",
    "print(\"Temp:\", temperature)"
   ]
  },
  {
   "cell_type": "code",
   "execution_count": null,
   "id": "4c9ff60c-d038-47e0-9e1a-5d98d0f25069",
   "metadata": {},
   "outputs": [],
   "source": []
  }
 ],
 "metadata": {
  "kernelspec": {
   "display_name": "Python 3 (ipykernel)",
   "language": "python",
   "name": "python3"
  },
  "language_info": {
   "codemirror_mode": {
    "name": "ipython",
    "version": 3
   },
   "file_extension": ".py",
   "mimetype": "text/x-python",
   "name": "python",
   "nbconvert_exporter": "python",
   "pygments_lexer": "ipython3",
   "version": "3.11.1"
  }
 },
 "nbformat": 4,
 "nbformat_minor": 5
}
